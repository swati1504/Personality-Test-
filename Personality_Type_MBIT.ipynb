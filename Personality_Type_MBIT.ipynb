{
  "cells": [
    {
      "cell_type": "code",
      "execution_count": 2,
      "metadata": {
        "id": "4pav-dBNw3tY"
      },
      "outputs": [],
      "source": [
        "# importing the required libraries\n",
        "import pandas as pd\n",
        "from sklearn.metrics import classification_report\n",
        "from sklearn.linear_model import LogisticRegression\n",
        "from sklearn.preprocessing import LabelEncoder\n",
        "from sklearn.feature_extraction.text import TfidfVectorizer\n",
        "from tqdm import tqdm\n",
        "import nltk\n",
        "from nltk.stem import WordNetLemmatizer\n",
        "from nltk.corpus import stopwords\n",
        "import re\n",
        "from sklearn.model_selection import train_test_split\n",
        "from sklearn.svm import SVC\n",
        "import matplotlib.pyplot as plt\n",
        "import seaborn as sns\n",
        "from sklearn.metrics import accuracy_score\n",
        "from sklearn.naive_bayes import MultinomialNB\n",
        "from sklearn.ensemble import RandomForestClassifier\n",
        "from xgboost import XGBClassifier\n",
        "import plotly.express as px\n",
        "import warnings\n",
        "warnings.filterwarnings('ignore')"
      ]
    },
    {
      "cell_type": "code",
      "execution_count": 3,
      "metadata": {
        "colab": {
          "base_uri": "https://localhost:8080/",
          "height": 206
        },
        "id": "WlMJPH3mxRFu",
        "outputId": "ee20a8e9-5107-46ea-8b2c-027e322f6dd9"
      },
      "outputs": [
        {
          "output_type": "execute_result",
          "data": {
            "text/plain": [
              "   type                                              posts\n",
              "0  INFJ  'http://www.youtube.com/watch?v=qsXHcwe3krw|||...\n",
              "1  ENTP  'I'm finding the lack of me in these posts ver...\n",
              "2  INTP  'Good one  _____   https://www.youtube.com/wat...\n",
              "3  INTJ  'Dear INTP,   I enjoyed our conversation the o...\n",
              "4  ENTJ  'You're fired.|||That's another silly misconce..."
            ],
            "text/html": [
              "\n",
              "  <div id=\"df-5429b6d0-d951-4306-a68d-0bde3bdc7248\">\n",
              "    <div class=\"colab-df-container\">\n",
              "      <div>\n",
              "<style scoped>\n",
              "    .dataframe tbody tr th:only-of-type {\n",
              "        vertical-align: middle;\n",
              "    }\n",
              "\n",
              "    .dataframe tbody tr th {\n",
              "        vertical-align: top;\n",
              "    }\n",
              "\n",
              "    .dataframe thead th {\n",
              "        text-align: right;\n",
              "    }\n",
              "</style>\n",
              "<table border=\"1\" class=\"dataframe\">\n",
              "  <thead>\n",
              "    <tr style=\"text-align: right;\">\n",
              "      <th></th>\n",
              "      <th>type</th>\n",
              "      <th>posts</th>\n",
              "    </tr>\n",
              "  </thead>\n",
              "  <tbody>\n",
              "    <tr>\n",
              "      <th>0</th>\n",
              "      <td>INFJ</td>\n",
              "      <td>'http://www.youtube.com/watch?v=qsXHcwe3krw|||...</td>\n",
              "    </tr>\n",
              "    <tr>\n",
              "      <th>1</th>\n",
              "      <td>ENTP</td>\n",
              "      <td>'I'm finding the lack of me in these posts ver...</td>\n",
              "    </tr>\n",
              "    <tr>\n",
              "      <th>2</th>\n",
              "      <td>INTP</td>\n",
              "      <td>'Good one  _____   https://www.youtube.com/wat...</td>\n",
              "    </tr>\n",
              "    <tr>\n",
              "      <th>3</th>\n",
              "      <td>INTJ</td>\n",
              "      <td>'Dear INTP,   I enjoyed our conversation the o...</td>\n",
              "    </tr>\n",
              "    <tr>\n",
              "      <th>4</th>\n",
              "      <td>ENTJ</td>\n",
              "      <td>'You're fired.|||That's another silly misconce...</td>\n",
              "    </tr>\n",
              "  </tbody>\n",
              "</table>\n",
              "</div>\n",
              "      <button class=\"colab-df-convert\" onclick=\"convertToInteractive('df-5429b6d0-d951-4306-a68d-0bde3bdc7248')\"\n",
              "              title=\"Convert this dataframe to an interactive table.\"\n",
              "              style=\"display:none;\">\n",
              "        \n",
              "  <svg xmlns=\"http://www.w3.org/2000/svg\" height=\"24px\"viewBox=\"0 0 24 24\"\n",
              "       width=\"24px\">\n",
              "    <path d=\"M0 0h24v24H0V0z\" fill=\"none\"/>\n",
              "    <path d=\"M18.56 5.44l.94 2.06.94-2.06 2.06-.94-2.06-.94-.94-2.06-.94 2.06-2.06.94zm-11 1L8.5 8.5l.94-2.06 2.06-.94-2.06-.94L8.5 2.5l-.94 2.06-2.06.94zm10 10l.94 2.06.94-2.06 2.06-.94-2.06-.94-.94-2.06-.94 2.06-2.06.94z\"/><path d=\"M17.41 7.96l-1.37-1.37c-.4-.4-.92-.59-1.43-.59-.52 0-1.04.2-1.43.59L10.3 9.45l-7.72 7.72c-.78.78-.78 2.05 0 2.83L4 21.41c.39.39.9.59 1.41.59.51 0 1.02-.2 1.41-.59l7.78-7.78 2.81-2.81c.8-.78.8-2.07 0-2.86zM5.41 20L4 18.59l7.72-7.72 1.47 1.35L5.41 20z\"/>\n",
              "  </svg>\n",
              "      </button>\n",
              "      \n",
              "  <style>\n",
              "    .colab-df-container {\n",
              "      display:flex;\n",
              "      flex-wrap:wrap;\n",
              "      gap: 12px;\n",
              "    }\n",
              "\n",
              "    .colab-df-convert {\n",
              "      background-color: #E8F0FE;\n",
              "      border: none;\n",
              "      border-radius: 50%;\n",
              "      cursor: pointer;\n",
              "      display: none;\n",
              "      fill: #1967D2;\n",
              "      height: 32px;\n",
              "      padding: 0 0 0 0;\n",
              "      width: 32px;\n",
              "    }\n",
              "\n",
              "    .colab-df-convert:hover {\n",
              "      background-color: #E2EBFA;\n",
              "      box-shadow: 0px 1px 2px rgba(60, 64, 67, 0.3), 0px 1px 3px 1px rgba(60, 64, 67, 0.15);\n",
              "      fill: #174EA6;\n",
              "    }\n",
              "\n",
              "    [theme=dark] .colab-df-convert {\n",
              "      background-color: #3B4455;\n",
              "      fill: #D2E3FC;\n",
              "    }\n",
              "\n",
              "    [theme=dark] .colab-df-convert:hover {\n",
              "      background-color: #434B5C;\n",
              "      box-shadow: 0px 1px 3px 1px rgba(0, 0, 0, 0.15);\n",
              "      filter: drop-shadow(0px 1px 2px rgba(0, 0, 0, 0.3));\n",
              "      fill: #FFFFFF;\n",
              "    }\n",
              "  </style>\n",
              "\n",
              "      <script>\n",
              "        const buttonEl =\n",
              "          document.querySelector('#df-5429b6d0-d951-4306-a68d-0bde3bdc7248 button.colab-df-convert');\n",
              "        buttonEl.style.display =\n",
              "          google.colab.kernel.accessAllowed ? 'block' : 'none';\n",
              "\n",
              "        async function convertToInteractive(key) {\n",
              "          const element = document.querySelector('#df-5429b6d0-d951-4306-a68d-0bde3bdc7248');\n",
              "          const dataTable =\n",
              "            await google.colab.kernel.invokeFunction('convertToInteractive',\n",
              "                                                     [key], {});\n",
              "          if (!dataTable) return;\n",
              "\n",
              "          const docLinkHtml = 'Like what you see? Visit the ' +\n",
              "            '<a target=\"_blank\" href=https://colab.research.google.com/notebooks/data_table.ipynb>data table notebook</a>'\n",
              "            + ' to learn more about interactive tables.';\n",
              "          element.innerHTML = '';\n",
              "          dataTable['output_type'] = 'display_data';\n",
              "          await google.colab.output.renderOutput(dataTable, element);\n",
              "          const docLink = document.createElement('div');\n",
              "          docLink.innerHTML = docLinkHtml;\n",
              "          element.appendChild(docLink);\n",
              "        }\n",
              "      </script>\n",
              "    </div>\n",
              "  </div>\n",
              "  "
            ]
          },
          "metadata": {},
          "execution_count": 3
        }
      ],
      "source": [
        "data=pd.read_csv('mbti.csv')\n",
        "data.head()"
      ]
    },
    {
      "cell_type": "code",
      "execution_count": 4,
      "metadata": {
        "colab": {
          "base_uri": "https://localhost:8080/"
        },
        "id": "9lPqgPEL_WL8",
        "outputId": "e94f460c-cba5-4512-98c5-caa64dc52d2e"
      },
      "outputs": [
        {
          "output_type": "execute_result",
          "data": {
            "text/plain": [
              "(8675, 2)"
            ]
          },
          "metadata": {},
          "execution_count": 4
        }
      ],
      "source": [
        "data.shape"
      ]
    },
    {
      "cell_type": "code",
      "execution_count": 5,
      "metadata": {
        "colab": {
          "base_uri": "https://localhost:8080/",
          "height": 175
        },
        "id": "6EgVPOYxx_Dx",
        "outputId": "d452916e-d8f5-414c-8e10-db95ec99ddbe"
      },
      "outputs": [
        {
          "output_type": "execute_result",
          "data": {
            "text/plain": [
              "        type                                              posts\n",
              "count   8675                                               8675\n",
              "unique    16                                               8675\n",
              "top     INFP  'http://www.youtube.com/watch?v=qsXHcwe3krw|||...\n",
              "freq    1832                                                  1"
            ],
            "text/html": [
              "\n",
              "  <div id=\"df-3e914d8a-a3b0-49a8-ac2d-20f1b84f5162\">\n",
              "    <div class=\"colab-df-container\">\n",
              "      <div>\n",
              "<style scoped>\n",
              "    .dataframe tbody tr th:only-of-type {\n",
              "        vertical-align: middle;\n",
              "    }\n",
              "\n",
              "    .dataframe tbody tr th {\n",
              "        vertical-align: top;\n",
              "    }\n",
              "\n",
              "    .dataframe thead th {\n",
              "        text-align: right;\n",
              "    }\n",
              "</style>\n",
              "<table border=\"1\" class=\"dataframe\">\n",
              "  <thead>\n",
              "    <tr style=\"text-align: right;\">\n",
              "      <th></th>\n",
              "      <th>type</th>\n",
              "      <th>posts</th>\n",
              "    </tr>\n",
              "  </thead>\n",
              "  <tbody>\n",
              "    <tr>\n",
              "      <th>count</th>\n",
              "      <td>8675</td>\n",
              "      <td>8675</td>\n",
              "    </tr>\n",
              "    <tr>\n",
              "      <th>unique</th>\n",
              "      <td>16</td>\n",
              "      <td>8675</td>\n",
              "    </tr>\n",
              "    <tr>\n",
              "      <th>top</th>\n",
              "      <td>INFP</td>\n",
              "      <td>'http://www.youtube.com/watch?v=qsXHcwe3krw|||...</td>\n",
              "    </tr>\n",
              "    <tr>\n",
              "      <th>freq</th>\n",
              "      <td>1832</td>\n",
              "      <td>1</td>\n",
              "    </tr>\n",
              "  </tbody>\n",
              "</table>\n",
              "</div>\n",
              "      <button class=\"colab-df-convert\" onclick=\"convertToInteractive('df-3e914d8a-a3b0-49a8-ac2d-20f1b84f5162')\"\n",
              "              title=\"Convert this dataframe to an interactive table.\"\n",
              "              style=\"display:none;\">\n",
              "        \n",
              "  <svg xmlns=\"http://www.w3.org/2000/svg\" height=\"24px\"viewBox=\"0 0 24 24\"\n",
              "       width=\"24px\">\n",
              "    <path d=\"M0 0h24v24H0V0z\" fill=\"none\"/>\n",
              "    <path d=\"M18.56 5.44l.94 2.06.94-2.06 2.06-.94-2.06-.94-.94-2.06-.94 2.06-2.06.94zm-11 1L8.5 8.5l.94-2.06 2.06-.94-2.06-.94L8.5 2.5l-.94 2.06-2.06.94zm10 10l.94 2.06.94-2.06 2.06-.94-2.06-.94-.94-2.06-.94 2.06-2.06.94z\"/><path d=\"M17.41 7.96l-1.37-1.37c-.4-.4-.92-.59-1.43-.59-.52 0-1.04.2-1.43.59L10.3 9.45l-7.72 7.72c-.78.78-.78 2.05 0 2.83L4 21.41c.39.39.9.59 1.41.59.51 0 1.02-.2 1.41-.59l7.78-7.78 2.81-2.81c.8-.78.8-2.07 0-2.86zM5.41 20L4 18.59l7.72-7.72 1.47 1.35L5.41 20z\"/>\n",
              "  </svg>\n",
              "      </button>\n",
              "      \n",
              "  <style>\n",
              "    .colab-df-container {\n",
              "      display:flex;\n",
              "      flex-wrap:wrap;\n",
              "      gap: 12px;\n",
              "    }\n",
              "\n",
              "    .colab-df-convert {\n",
              "      background-color: #E8F0FE;\n",
              "      border: none;\n",
              "      border-radius: 50%;\n",
              "      cursor: pointer;\n",
              "      display: none;\n",
              "      fill: #1967D2;\n",
              "      height: 32px;\n",
              "      padding: 0 0 0 0;\n",
              "      width: 32px;\n",
              "    }\n",
              "\n",
              "    .colab-df-convert:hover {\n",
              "      background-color: #E2EBFA;\n",
              "      box-shadow: 0px 1px 2px rgba(60, 64, 67, 0.3), 0px 1px 3px 1px rgba(60, 64, 67, 0.15);\n",
              "      fill: #174EA6;\n",
              "    }\n",
              "\n",
              "    [theme=dark] .colab-df-convert {\n",
              "      background-color: #3B4455;\n",
              "      fill: #D2E3FC;\n",
              "    }\n",
              "\n",
              "    [theme=dark] .colab-df-convert:hover {\n",
              "      background-color: #434B5C;\n",
              "      box-shadow: 0px 1px 3px 1px rgba(0, 0, 0, 0.15);\n",
              "      filter: drop-shadow(0px 1px 2px rgba(0, 0, 0, 0.3));\n",
              "      fill: #FFFFFF;\n",
              "    }\n",
              "  </style>\n",
              "\n",
              "      <script>\n",
              "        const buttonEl =\n",
              "          document.querySelector('#df-3e914d8a-a3b0-49a8-ac2d-20f1b84f5162 button.colab-df-convert');\n",
              "        buttonEl.style.display =\n",
              "          google.colab.kernel.accessAllowed ? 'block' : 'none';\n",
              "\n",
              "        async function convertToInteractive(key) {\n",
              "          const element = document.querySelector('#df-3e914d8a-a3b0-49a8-ac2d-20f1b84f5162');\n",
              "          const dataTable =\n",
              "            await google.colab.kernel.invokeFunction('convertToInteractive',\n",
              "                                                     [key], {});\n",
              "          if (!dataTable) return;\n",
              "\n",
              "          const docLinkHtml = 'Like what you see? Visit the ' +\n",
              "            '<a target=\"_blank\" href=https://colab.research.google.com/notebooks/data_table.ipynb>data table notebook</a>'\n",
              "            + ' to learn more about interactive tables.';\n",
              "          element.innerHTML = '';\n",
              "          dataTable['output_type'] = 'display_data';\n",
              "          await google.colab.output.renderOutput(dataTable, element);\n",
              "          const docLink = document.createElement('div');\n",
              "          docLink.innerHTML = docLinkHtml;\n",
              "          element.appendChild(docLink);\n",
              "        }\n",
              "      </script>\n",
              "    </div>\n",
              "  </div>\n",
              "  "
            ]
          },
          "metadata": {},
          "execution_count": 5
        }
      ],
      "source": [
        "data.describe()"
      ]
    },
    {
      "cell_type": "code",
      "execution_count": 6,
      "metadata": {
        "colab": {
          "base_uri": "https://localhost:8080/"
        },
        "id": "xz90ea6SziXe",
        "outputId": "aca53468-fd92-40da-ac39-568865c025e4"
      },
      "outputs": [
        {
          "output_type": "execute_result",
          "data": {
            "text/plain": [
              "INFP    1832\n",
              "INFJ    1470\n",
              "INTP    1304\n",
              "INTJ    1091\n",
              "ENTP     685\n",
              "ENFP     675\n",
              "ISTP     337\n",
              "ISFP     271\n",
              "ENTJ     231\n",
              "ISTJ     205\n",
              "ENFJ     190\n",
              "ISFJ     166\n",
              "ESTP      89\n",
              "ESFP      48\n",
              "ESFJ      42\n",
              "ESTJ      39\n",
              "Name: type, dtype: int64"
            ]
          },
          "metadata": {},
          "execution_count": 6
        }
      ],
      "source": [
        "data['type'].value_counts()"
      ]
    },
    {
      "cell_type": "code",
      "execution_count": 7,
      "metadata": {
        "colab": {
          "base_uri": "https://localhost:8080/"
        },
        "id": "dJnDwmvyzlMR",
        "outputId": "0fb26e5d-2e8d-410a-fe25-92a994f67a6c"
      },
      "outputs": [
        {
          "output_type": "stream",
          "name": "stdout",
          "text": [
            "<class 'pandas.core.frame.DataFrame'>\n",
            "RangeIndex: 8675 entries, 0 to 8674\n",
            "Data columns (total 2 columns):\n",
            " #   Column  Non-Null Count  Dtype \n",
            "---  ------  --------------  ----- \n",
            " 0   type    8675 non-null   object\n",
            " 1   posts   8675 non-null   object\n",
            "dtypes: object(2)\n",
            "memory usage: 135.7+ KB\n"
          ]
        }
      ],
      "source": [
        "data.info()"
      ]
    },
    {
      "cell_type": "code",
      "execution_count": 8,
      "metadata": {
        "colab": {
          "base_uri": "https://localhost:8080/",
          "height": 192
        },
        "id": "KR_rWqY8ztRQ",
        "outputId": "89edbae8-3c4e-4d31-e4cb-6dc7deefaf08"
      },
      "outputs": [
        {
          "output_type": "execute_result",
          "data": {
            "text/plain": [
              "\"'I'm finding the lack of me in these posts very alarming.|||Sex can be boring if it's in the same position often. For example me and my girlfriend are currently in an environment where we have to creatively use cowgirl and missionary. There isn't enough...|||Giving new meaning to 'Game' theory.|||Hello *ENTP Grin*  That's all it takes. Than we converse and they do most of the flirting while I acknowledge their presence and return their words with smooth wordplay and more cheeky grins.|||This + Lack of Balance and Hand Eye Coordination.|||Real IQ test I score 127. Internet IQ tests are funny. I score 140s or higher.  Now, like the former responses of this thread I will mention that I don't believe in the IQ test. Before you banish...|||You know you're an ENTP when you vanish from a site for a year and a half, return, and find people are still commenting on your posts and liking your ideas/thoughts. You know you're an ENTP when you...|||http://img188.imageshack.us/img188/6422/6020d1f9da6944a6b71bbe6.jpg|||http://img.adultdvdtalk.com/813a0c6243814cab84c51|||I over think things sometimes. I go by the old Sherlock Holmes quote.  Perhaps, when a man has special knowledge and special powers like my  own, it rather encourages him to seek a complex...|||cheshirewolf.tumblr.com  So is I :D|||400,000+  post|||Not really; I've never thought of E/I or J/P as real functions.  I judge myself on what I use. I use Ne and Ti as my dominates. Fe for emotions and rarely Si. I also use Ni due to me strength...|||You know though. That was ingenious. After saying it I really want to try it and see what happens with me playing a first person shooter in the back while we drive around. I want to see the look on...|||out of all of them the rock paper one is the best. It makes me lol.  You guys are lucky :D I'm really high up on the tumblr system.|||So did you hear about that new first person shooter game? I've been rocking the hell out of the soundtrack on my auto sound equipment that will shake the heavens. We managed to put a couple PS3's in...|||No; The way he connected things was very Ne. Ne dominates are just as aware of their environments as Se dominates.  Example: Shawn Spencer or Patrick Jane; Both ENTPs.|||Well charlie I will be the first to admit I do get jealous like you do. I chalk it up to my 4w3 heart mixed with my dominate 7w8. 7s and 8s both like to be noticed. 4's like to be known (not the same...|||;D I'll upload the same clip with the mic away from my mouth. Than you won't hear anything.  Ninja Assassin style but with splatter.|||Tik Tok is a really great song. As long as you can mental block out the singer. I love the beat it makes me bounce.|||drop.io v1swck0  :D Mic really close to my mouth and smokin aces: assassins ball playing in the background.|||Sociable =/= extrovert; I'm an extrovert and I'm not sociable. :)|||Sherlock in the movie was an ENTP. Normally he's played as a EXTJ. In the books he's an ESTJ.  As I said. The movie looked good except for it being called sherlock holmes.|||http://i817.photobucket.com/albums/zz96/kamioo/Dirtywinch.png|||Oh, I never had fear of kissing a guy. I will kiss an animal too. So there was nothing to vanish. Just personal taste and me not liking it.  The guy I kissed didn't know me. It was one of those...|||Sounds pretty much like my area and what I'm going through right now trying to figure out which way I want to take my life. I want to do so many things. The biggest problem is that I know if I don't...|||;D I was operating under the impression that you were female. I never looked at your boxy. Okay, I help out my gay friends all the time and one of them has developed a little crush on me. I get red...|||T_T You just described me  and I'm living the worst nightmare. I'm trapped in one place with one one around. Only dull woods. If I was a serial killer this would be the perfect place but sadly I'm...|||TBH, and biased, sounds like a shadowed INFP. I think maybe he was hurt and turned ESTJ. I can tell because he has some of the typical INFP traits left over.|||*Checks list* I'm sorry. It seems that you have came at a bad time. We've already reached our quota of INFJs. However, being you're female and I like females I will make you a deal. I will kick one...|||I'm ANTP (Leaning toward E). I'm easy for both ENTPs and INTPs to identify with. :)|||I also imagine ENTP's interrogations would go a little bit like Jack's from 24 except more mechanical. Rigging up shock treatment equipment in an abandoned building out of an old car batty, jumper...|||It was a compliment :) Trust me. I'm just as psychopathic :D except I have emoticons. They're just weird ones. Like laughing when I get hurt or at people running themselves over with their lawn mower...|||http://i817.photobucket.com/albums/zz96/kamioo/Thunderstorm.pnghttp://i817.photobucket.com/albums/zz96/kamioo/Thunderstormbw.png http://i817.photobucket.com/albums/zz96/kamioo/Cosmicstorm.png|||No. It's like a theme for where I live and that is why I know it by heart.   http://www.youtube.com/watch?v=j5W73HaVQBg|||and I usual don't leave until the thing ends. But in the mean time. In between times. You work your thing. I'll work mine :D  ;D I'm the MBP; Pleasure to meet you.|||Damn, need to trust my instincts more I would have been closer I was going to say INFP.|||EXFP? Leaning toward S with the way she responded.  :D My friends, even my gay and lesbian ones, always come to me for advice.|||I bow to my entp masters ENTPs are so great. If it wasn't for ENTPs I wouldn't have been able to build what I'm building  Duck Duck  Duck  Shotgun|||What? Me? I never do that >.> <.<|||Because its hard to be sad about losing someone you like when you knew you were right and give yourself a big pat on the back because you're awesome and always correct.|||Oh, you don't have to tell me that most of them are stupid. I know this. That is why I play with them and it makes me laugh. :D As I'm going to take Neuropsychology and I have a few psychologist...|||:D I'm a Nightowl. I wake up between 6-7pm and stay awake till 10-11:30am.|||Personal opinion backed by theory would suggest that INTPs are the most socially difficult. While INTJs can be socially indifferent but they will also use social situations if the the need arises....|||Personal stocks that I have on my desktop that I've downloaded from random stock sites and stock photobuckets.|||I'll tell you when I open photoshop.  :) Glad you like it static.|||:D Thanks.|||http://i817.photobucket.com/albums/zz96/kamioo/Deathgrip.png http://i817.photobucket.com/albums/zz96/kamioo/Deathgripbw.png  Made for a friend. Several hours of work. I constructed every line by...|||:) Static: http://i817.photobucket.com/albums/zz96/kamioo/Statickitten.png  I'll have to get to your avatar later if one of my fellow teammates doesn't.|||Psychologist don't keep me around long enough to diagnosis me. I like to toy with them. What I have diagnosis myself with and had a few psychologist friends (+ a few other friends) tell me I have is...'\""
            ],
            "application/vnd.google.colaboratory.intrinsic+json": {
              "type": "string"
            }
          },
          "metadata": {},
          "execution_count": 8
        }
      ],
      "source": [
        "data['posts'][1]"
      ]
    },
    {
      "cell_type": "code",
      "execution_count": 9,
      "metadata": {
        "id": "UPDUubDVzv7c"
      },
      "outputs": [],
      "source": [
        "#split the dataset for training and testing \n",
        "\n",
        "train_data,test_data=train_test_split(data,test_size=0.25,random_state=123,stratify=data.type)"
      ]
    },
    {
      "cell_type": "code",
      "execution_count": 10,
      "metadata": {
        "id": "aJ-O3Mqf1fGC"
      },
      "outputs": [],
      "source": [
        "#original text contains many unrequired characters which are needed to be removed\n",
        "#preprocessing step - tokenization, lemmatization and cleaning of data\n",
        "#function to clean the text \n",
        "\n",
        "def clean_text(data):\n",
        "  data_length=[]\n",
        "  lemmatizer=WordNetLemmatizer\n",
        "  cleaned_text=[]\n",
        "\n",
        "  for sentence in tqdm(data.posts):\n",
        "        sentence=sentence.lower()\n",
        "        \n",
        "#         removing links from text data\n",
        "        sentence=re.sub('https?://[^\\s<>\"]+|www\\.[^\\s<>\"]+',' ',sentence)\n",
        "    \n",
        "#         removing other symbols\n",
        "        sentence=re.sub('[^0-9a-z]',' ',sentence)\n",
        "    \n",
        "        data_length.append(len(sentence.split()))\n",
        "        cleaned_text.append(sentence)\n",
        "  return cleaned_text,data_length"
      ]
    },
    {
      "cell_type": "code",
      "execution_count": 11,
      "metadata": {
        "colab": {
          "base_uri": "https://localhost:8080/"
        },
        "id": "Z2v1N_GMM8Km",
        "outputId": "046733e6-0346-4a9c-c3f6-2a844483c0f0"
      },
      "outputs": [
        {
          "output_type": "stream",
          "name": "stderr",
          "text": [
            "100%|██████████| 6506/6506 [00:06<00:00, 964.44it/s]\n"
          ]
        }
      ],
      "source": [
        "train_data.posts,train_length=clean_text(train_data)"
      ]
    },
    {
      "cell_type": "code",
      "execution_count": 12,
      "metadata": {
        "colab": {
          "base_uri": "https://localhost:8080/"
        },
        "id": "olGdNsOTPx7e",
        "outputId": "a1f9b4c4-e95a-4d20-9d60-fc076e4b73b9"
      },
      "outputs": [
        {
          "output_type": "stream",
          "name": "stderr",
          "text": [
            "100%|██████████| 2169/2169 [00:02<00:00, 820.55it/s]\n"
          ]
        }
      ],
      "source": [
        "test_data.posts,test_length=clean_text(test_data)"
      ]
    },
    {
      "cell_type": "code",
      "execution_count": 13,
      "metadata": {
        "colab": {
          "base_uri": "https://localhost:8080/",
          "height": 390
        },
        "id": "omy5cNl0QagA",
        "outputId": "7f20e16d-3d21-4c7e-fa84-86974536060a"
      },
      "outputs": [
        {
          "output_type": "display_data",
          "data": {
            "text/plain": [
              "<Figure size 864x432 with 1 Axes>"
            ],
            "image/png": "[encoded data removed]"
          },
          "metadata": {
            "needs_background": "light"
          }
        }
      ],
      "source": [
        "plt.figure(figsize=(12,6))\n",
        "sns.distplot(train_length,label='train data word length',color='blue')\n",
        "sns.distplot(test_length,label='test data word length',color='orange')\n",
        "plt.title('Number of words in text')\n",
        "plt.show()"
      ]
    },
    {
      "cell_type": "code",
      "execution_count": 14,
      "metadata": {
        "colab": {
          "base_uri": "https://localhost:8080/",
          "height": 542
        },
        "id": "VhSxG6-JQLIm",
        "outputId": "cc74356e-3788-44b3-9fc6-ab59d8f66216"
      },
      "outputs": [
        {
          "output_type": "display_data",
          "data": {
            "text/html": [
              "<html>\n",
              "<head><meta charset=\"utf-8\" /></head>\n",
              "<body>\n",
              "    <div>            <script src=\"https://cdnjs.cloudflare.com/ajax/libs/mathjax/2.7.5/MathJax.js?config=TeX-AMS-MML_SVG\"></script><script type=\"text/javascript\">if (window.MathJax) {MathJax.Hub.Config({SVG: {font: \"STIX-Web\"}});}</script>                <script type=\"text/javascript\">window.PlotlyConfig = {MathJaxConfig: 'local'};</script>\n",
              "        <script src=\"https://cdn.plot.ly/plotly-2.8.3.min.js\"></script>                <div id=\"f7bf94d3-7124-442e-9f2a-0bf3b6288d80\" class=\"plotly-graph-div\" style=\"height:525px; width:100%;\"></div>            <script type=\"text/javascript\">                                    window.PLOTLYENV=window.PLOTLYENV || {};                                    if (document.getElementById(\"f7bf94d3-7124-442e-9f2a-0bf3b6288d80\")) {                    Plotly.newPlot(                        \"f7bf94d3-7124-442e-9f2a-0bf3b6288d80\",                        [{\"domain\":{\"x\":[0.0,1.0],\"y\":[0.0,1.0]},\"hovertemplate\":\"type=%{label}<extra></extra>\",\"labels\":[\"INTJ\",\"INFJ\",\"INTP\",\"INFJ\",\"INFJ\",\"ENFJ\",\"ENFP\",\"INFP\",\"ISFJ\",\"INTJ\",\"INTJ\",\"ENTP\",\"INTP\",\"INTJ\",\"INFP\",\"INTJ\",\"INFJ\",\"INFJ\",\"ISFJ\",\"INFP\",\"ENFP\",\"INFP\",\"INTP\",\"ENFP\",\"ENFP\",\"INFJ\",\"INTP\",\"INFP\",\"ENTJ\",\"ISTJ\",\"INTJ\",\"ESTJ\",\"INFP\",\"INFJ\",\"ENFP\",\"INFP\",\"ESTJ\",\"INFP\",\"INTP\",\"ISTJ\",\"INTJ\",\"ISTJ\",\"INFJ\",\"ISTJ\",\"INFJ\",\"INTP\",\"INFP\",\"ISTP\",\"INTP\",\"ENFP\",\"INTP\",\"ENTJ\",\"INFJ\",\"ENTP\",\"INFP\",\"INTP\",\"ENTP\",\"ENFP\",\"INTJ\",\"INTJ\",\"ISFJ\",\"ISFP\",\"ENTP\",\"INTJ\",\"ISTJ\",\"INFP\",\"INFJ\",\"INTJ\",\"ESFJ\",\"INFJ\",\"INFJ\",\"ENFP\",\"INFJ\",\"INTP\",\"ENTP\",\"INFP\",\"ISTP\",\"INTJ\",\"INTP\",\"INFP\",\"ENFJ\",\"ISTP\",\"ENTJ\",\"INTP\",\"INFJ\",\"ENFP\",\"ENTP\",\"ENTP\",\"INTP\",\"INTP\",\"INFP\",\"INTJ\",\"INFP\",\"ISFP\",\"INTP\",\"INFP\",\"ENTJ\",\"INFP\",\"ENTP\",\"ISFJ\",\"INFP\",\"INFJ\",\"ENFJ\",\"ENFP\",\"INTJ\",\"INTP\",\"ENTP\",\"INFP\",\"INFP\",\"INFP\",\"INFP\",\"INFJ\",\"ISFP\",\"INFP\",\"ENTJ\",\"INFJ\",\"ENTJ\",\"INFP\",\"INTJ\",\"INFP\",\"INTJ\",\"INTP\",\"ESTJ\",\"INTP\",\"INTJ\",\"INTP\",\"INTJ\",\"INTP\",\"ENFP\",\"INTP\",\"INTJ\",\"ENFP\",\"INFJ\",\"INFJ\",\"INFJ\",\"INFJ\",\"ISTP\",\"INFJ\",\"INTP\",\"ENFP\",\"INFJ\",\"INFJ\",\"ENFP\",\"ISTP\",\"INFJ\",\"ENTP\",\"INTP\",\"INTP\",\"INTP\",\"INTP\",\"ISFJ\",\"ISTJ\",\"INTP\",\"INTJ\",\"ENFP\",\"INFJ\",\"INTJ\",\"ENFP\",\"ENFJ\",\"INFP\",\"ENTP\",\"ISFJ\",\"ENTP\",\"ENFP\",\"INTJ\",\"ENTJ\",\"ISFP\",\"INFP\",\"INFJ\",\"INFP\",\"INTP\",\"INFJ\",\"INTP\",\"INFJ\",\"ISTJ\",\"INFP\",\"INTP\",\"INTJ\",\"ENFP\",\"INTJ\",\"INTJ\",\"INFJ\",\"INFP\",\"INFJ\",\"INTP\",\"ENFP\",\"INFJ\",\"ENFP\",\"INTJ\",\"INFP\",\"INTJ\",\"INTP\",\"INTJ\",\"ENFP\",\"INTJ\",\"INFP\",\"INFJ\",\"ENTP\",\"INFJ\",\"INTP\",\"ESFJ\",\"INFJ\",\"ISFP\",\"INFP\",\"ENTP\",\"INFP\",\"INFP\",\"INTP\",\"INFP\",\"INFP\",\"INFJ\",\"INFP\",\"INFJ\",\"INTJ\",\"ENTP\",\"INFP\",\"INFJ\",\"INFP\",\"INTP\",\"INTJ\",\"ENTP\",\"ISFP\",\"INFJ\",\"INTP\",\"ISFP\",\"INFP\",\"ENFP\",\"INTJ\",\"INFJ\",\"INTP\",\"ENFP\",\"ENTP\",\"INFP\",\"INTP\",\"INTJ\",\"INFJ\",\"INFP\",\"INTJ\",\"INTP\",\"INFP\",\"INTJ\",\"INFP\",\"INFJ\",\"ENTJ\",\"INTP\",\"INFJ\",\"INFP\",\"INFJ\",\"INTJ\",\"ISTJ\",\"INTP\",\"INFP\",\"INTP\",\"INTJ\",\"INFP\",\"INFJ\",\"INFJ\",\"INFP\",\"ENTP\",\"ESTP\",\"INFP\",\"ESTJ\",\"INFJ\",\"INFP\",\"ESTP\",\"INTP\",\"INTP\",\"ISFP\",\"INFP\",\"INTJ\",\"ENTJ\",\"INTP\",\"INFP\",\"ENFP\",\"INFJ\",\"ISFJ\",\"INTJ\",\"INFJ\",\"INTP\",\"INFP\",\"ESTJ\",\"INTP\",\"ENFP\",\"INTP\",\"ENFP\",\"INFP\",\"INFP\",\"INTJ\",\"ENFP\",\"INTP\",\"INFJ\",\"INFJ\",\"ISTJ\",\"INTJ\",\"INFJ\",\"INTJ\",\"INTP\",\"INTJ\",\"INFP\",\"INTJ\",\"INFJ\",\"INFP\",\"INTJ\",\"ENTJ\",\"INFP\",\"INFP\",\"ISTP\",\"INFJ\",\"INTJ\",\"INFJ\",\"INTP\",\"INFJ\",\"INTP\",\"ESFP\",\"INFP\",\"INFP\",\"ESFP\",\"ENTJ\",\"ISFP\",\"ENFP\",\"ENFJ\",\"INFP\",\"INTJ\",\"INTJ\",\"ENFP\",\"INFP\",\"ISTP\",\"ENFP\",\"ENFP\",\"ENTP\",\"ENTP\",\"ISTP\",\"INFP\",\"ISTP\",\"ISFJ\",\"ENFP\",\"ENTP\",\"INTP\",\"ISTJ\",\"ENTP\",\"INFP\",\"ISFJ\",\"INFJ\",\"INFP\",\"ISTP\",\"ENFP\",\"ENTP\",\"ISTJ\",\"INTP\",\"ISTP\",\"INTP\",\"INTJ\",\"INTP\",\"INFP\",\"ENFP\",\"ISTJ\",\"INFP\",\"ISTP\",\"ISTP\",\"INTP\",\"ISFP\",\"ENFJ\",\"ISTJ\",\"INFP\",\"INFP\",\"INFP\",\"ENFP\",\"INTP\",\"ENTP\",\"INTJ\",\"ENTJ\",\"INFP\",\"ENFJ\",\"INFJ\",\"ENFP\",\"INTP\",\"INFJ\",\"ENFP\",\"ISTP\",\"ISFJ\",\"ENTP\",\"ISFJ\",\"INTJ\",\"ENTP\",\"INTP\",\"ENTP\",\"ENTJ\",\"INFJ\",\"INFP\",\"INFJ\",\"ENTJ\",\"INFJ\",\"INFP\",\"INFP\",\"INFJ\",\"ENFJ\",\"INTP\",\"ISTJ\",\"INFJ\",\"INTJ\",\"ENFP\",\"INTJ\",\"ISTJ\",\"ENFP\",\"ENFP\",\"INTP\",\"INFP\",\"ENFP\",\"INFP\",\"INTP\",\"INFP\",\"INFJ\",\"INTJ\",\"ENFP\",\"INTJ\",\"INTJ\",\"ENFP\",\"INTP\",\"INTJ\",\"INFP\",\"INFP\",\"INFP\",\"INFP\",\"INFJ\",\"ENTP\",\"ISTP\",\"ENFP\",\"INTP\",\"INTP\",\"INFP\",\"INFJ\",\"INTJ\",\"ENTP\",\"INTJ\",\"INFJ\",\"INTJ\",\"INTP\",\"INTJ\",\"ENTP\",\"INFJ\",\"INFJ\",\"INFJ\",\"INFP\",\"INFJ\",\"INTP\",\"INFP\",\"INTJ\",\"INTJ\",\"ENTJ\",\"INFP\",\"INFP\",\"ESFP\",\"INFP\",\"INTP\",\"ISTP\",\"INTJ\",\"INTP\",\"INFP\",\"ENTP\",\"INFJ\",\"INFP\",\"ENTJ\",\"INTJ\",\"INTP\",\"ENFP\",\"INFJ\",\"ISFP\",\"INTJ\",\"INTJ\",\"INFJ\",\"INTP\",\"INTP\",\"INFJ\",\"INFP\",\"ISFJ\",\"ISFJ\",\"ENFP\",\"INFP\",\"ENFP\",\"INFP\",\"ISTJ\",\"INFJ\",\"INFP\",\"INFP\",\"INTP\",\"ENTP\",\"INFJ\",\"INTP\",\"INFP\",\"INFP\",\"INFP\",\"INFP\",\"INFP\",\"INTP\",\"ISTJ\",\"INFJ\",\"INTJ\",\"INTP\",\"INTJ\",\"INTJ\",\"INTJ\",\"INFJ\",\"INFJ\",\"ENTP\",\"ISTP\",\"INFJ\",\"ISTP\",\"ENFJ\",\"ENTP\",\"ISTJ\",\"INFP\",\"INTJ\",\"ISTP\",\"INFJ\",\"INFJ\",\"INTP\",\"ENTP\",\"INTJ\",\"ENTJ\",\"ENFJ\",\"INFP\",\"INFJ\",\"INTP\",\"INTP\",\"INFP\",\"INTP\",\"ENTP\",\"INTJ\",\"INTP\",\"INTP\",\"ENTP\",\"ENFP\",\"INTP\",\"ENTJ\",\"INTJ\",\"ENTP\",\"INFJ\",\"ENFP\",\"ENTJ\",\"ENFJ\",\"ENFJ\",\"ISTP\",\"INTJ\",\"INFJ\",\"INFJ\",\"INTP\",\"ENTP\",\"INFJ\",\"INTJ\",\"ENTJ\",\"INTP\",\"INFP\",\"INTP\",\"ISFP\",\"INFP\",\"ENFP\",\"ENFP\",\"INFJ\",\"ESFJ\",\"INTP\",\"ISTJ\",\"INTP\",\"INFJ\",\"INTP\",\"INTP\",\"INFP\",\"ESTP\",\"INTP\",\"INTP\",\"ENTP\",\"ENFJ\",\"ESFP\",\"INFP\",\"INFP\",\"ISFP\",\"ISFJ\",\"INTJ\",\"ISTJ\",\"INFP\",\"ENTJ\",\"ISTP\",\"ISTP\",\"INTP\",\"INFP\",\"ISTJ\",\"INFP\",\"ESTJ\",\"INFJ\",\"INFJ\",\"INFJ\",\"INFJ\",\"INTP\",\"ISTP\",\"INFP\",\"INTJ\",\"ENTP\",\"INTP\",\"INTP\",\"ENFP\",\"ENTP\",\"INFJ\",\"ENFP\",\"INFP\",\"INTP\",\"INFP\",\"ISFP\",\"INFP\",\"INTP\",\"INTP\",\"ESTP\",\"INTJ\",\"INTJ\",\"INFP\",\"INFP\",\"INFJ\",\"INTJ\",\"ENTJ\",\"ENTP\",\"ENFP\",\"INFP\",\"ENFP\",\"INFP\",\"INTP\",\"INFJ\",\"INTJ\",\"INTP\",\"ENTP\",\"ISTJ\",\"ENTP\",\"INTJ\",\"INFJ\",\"INTP\",\"ENFP\",\"ENFP\",\"INFP\",\"INFJ\",\"ENTJ\",\"ENFJ\",\"ENTP\",\"INFJ\",\"INFP\",\"ENTP\",\"INTP\",\"INTJ\",\"INFJ\",\"INTP\",\"ESTP\",\"ENTP\",\"INFP\",\"ISFP\",\"INTP\",\"ENTP\",\"ENFP\",\"ENTP\",\"INFP\",\"ESFJ\",\"ISTJ\",\"INTP\",\"ENTP\",\"INFP\",\"INFP\",\"INTP\",\"INTJ\",\"INFP\",\"ISTJ\",\"INFJ\",\"INTP\",\"INFJ\",\"INFP\",\"INFJ\",\"INTJ\",\"INTP\",\"ENTP\",\"INTJ\",\"INFJ\",\"ISFP\",\"INFP\",\"INTP\",\"INTJ\",\"INTJ\",\"ENFP\",\"ISFP\",\"INFJ\",\"ENFP\",\"INFP\",\"INFJ\",\"INFP\",\"ENFP\",\"INTJ\",\"ENFP\",\"INFP\",\"ENTJ\",\"ISTJ\",\"INFJ\",\"INTP\",\"INTP\",\"ENTP\",\"INTP\",\"ENFP\",\"INTJ\",\"INFP\",\"INTP\",\"ENTP\",\"INFJ\",\"ENFP\",\"INTP\",\"INFJ\",\"INFJ\",\"INFP\",\"INTJ\",\"INTJ\",\"INFP\",\"ISTP\",\"INTP\",\"INTJ\",\"INTJ\",\"INTJ\",\"INFP\",\"ENTP\",\"INFP\",\"ENFP\",\"INFJ\",\"ENFP\",\"INFP\",\"INTJ\",\"INFJ\",\"INTJ\",\"INFJ\",\"INTJ\",\"ISFJ\",\"INFP\",\"INTP\",\"INTP\",\"INTP\",\"ENTP\",\"INFJ\",\"INTP\",\"ISTP\",\"INFJ\",\"INFP\",\"ISTP\",\"ENTP\",\"INFP\",\"INFJ\",\"ENFP\",\"INTJ\",\"INTP\",\"ENFP\",\"ENFP\",\"INTJ\",\"INTP\",\"INFP\",\"ESFJ\",\"ISTP\",\"INFJ\",\"ENTP\",\"INFP\",\"INTP\",\"INFJ\",\"INFJ\",\"INTJ\",\"ENFP\",\"ISFP\",\"INFP\",\"ENTP\",\"ISTP\",\"INFP\",\"INTP\",\"INTJ\",\"ISTJ\",\"ISTP\",\"INFP\",\"INTP\",\"INFP\",\"ENFP\",\"INTP\",\"INTP\",\"INFP\",\"INFP\",\"INTP\",\"INFJ\",\"ESTP\",\"INFP\",\"ENFP\",\"ENTP\",\"INFP\",\"ISTP\",\"ISFJ\",\"INFP\",\"ENTP\",\"ISFP\",\"INFP\",\"INTJ\",\"ENFP\",\"INTJ\",\"ENTP\",\"INFP\",\"ISTP\",\"INTJ\",\"INFP\",\"INTJ\",\"ENFP\",\"INTP\",\"INFP\",\"INTP\",\"ENTP\",\"INFP\",\"ENTP\",\"INFP\",\"ESTP\",\"INTJ\",\"INTJ\",\"ISFJ\",\"INFJ\",\"INTJ\",\"INTP\",\"INTP\",\"INFP\",\"INFP\",\"ENTP\",\"INFJ\",\"INTP\",\"ISFP\",\"INFJ\",\"ISTJ\",\"INFP\",\"INFP\",\"INTJ\",\"ENTP\",\"INTJ\",\"INFJ\",\"INFP\",\"INFJ\",\"INFJ\",\"INFJ\",\"INTP\",\"ENFP\",\"INTP\",\"INTP\",\"INFP\",\"INTP\",\"INFJ\",\"INTJ\",\"INFJ\",\"ISFP\",\"ENTP\",\"INFJ\",\"ISTP\",\"ENFJ\",\"ENTP\",\"INTJ\",\"INFJ\",\"INTP\",\"INFP\",\"INFJ\",\"ENTP\",\"ISTP\",\"INFJ\",\"INFJ\",\"INFP\",\"INFP\",\"INTJ\",\"INFP\",\"ENTJ\",\"ENFJ\",\"INFJ\",\"ISTP\",\"INFJ\",\"INTP\",\"INTP\",\"INFJ\",\"INFP\",\"INTP\",\"INFP\",\"INFP\",\"INFJ\",\"ENTJ\",\"ENTP\",\"INTJ\",\"ENTP\",\"INTJ\",\"INFP\",\"INTJ\",\"INTJ\",\"INFJ\",\"INFJ\",\"INTP\",\"INTP\",\"INTP\",\"INFJ\",\"ESFJ\",\"INFJ\",\"INFP\",\"INFP\",\"ENFP\",\"ENTP\",\"INFJ\",\"INTJ\",\"INFP\",\"ENFP\",\"ESTJ\",\"INFP\",\"INFJ\",\"ENTP\",\"INFP\",\"ISTP\",\"INFJ\",\"ISTP\",\"INFP\",\"INTJ\",\"ISFP\",\"INTJ\",\"ENTP\",\"ENFP\",\"INFP\",\"INFP\",\"INTJ\",\"INFP\",\"ENTJ\",\"ENFP\",\"INFP\",\"INTP\",\"INTJ\",\"INFP\",\"ENFP\",\"INFJ\",\"INTP\",\"INTJ\",\"INFP\",\"ISFJ\",\"ENTP\",\"INFP\",\"INFJ\",\"INFJ\",\"INTJ\",\"INFP\",\"INTJ\",\"INTJ\",\"INFJ\",\"INTP\",\"ISFJ\",\"INTJ\",\"INFP\",\"ENTJ\",\"INTJ\",\"INFP\",\"INTP\",\"INFJ\",\"ENTP\",\"ENFP\",\"INFJ\",\"INTJ\",\"ENFP\",\"ENFJ\",\"INTP\",\"INTJ\",\"INTJ\",\"INFP\",\"INTJ\",\"ENTP\",\"ISFJ\",\"INTJ\",\"ENFP\",\"ESTP\",\"INFP\",\"ENFJ\",\"ISFP\",\"ISTJ\",\"INFJ\",\"INFP\",\"INTJ\",\"INFJ\",\"INFJ\",\"INFP\",\"ENFP\",\"INTJ\",\"INFP\",\"INFP\",\"ISTP\",\"INFJ\",\"INFP\",\"ENTP\",\"INTP\",\"ENTP\",\"INTP\",\"INFJ\",\"INFJ\",\"INTP\",\"INTJ\",\"INFP\",\"INFJ\",\"INTJ\",\"INFP\",\"ENFP\",\"INTP\",\"INFP\",\"INTP\",\"ENFP\",\"ISFP\",\"INFP\",\"ENFP\",\"ISTP\",\"INFJ\",\"INFJ\",\"ENFJ\",\"INFP\",\"ENTJ\",\"ENFP\",\"INTP\",\"INFP\",\"ENFP\",\"INFP\",\"ISTP\",\"INTJ\",\"INTP\",\"INFJ\",\"INFP\",\"INTP\",\"INFP\",\"INTP\",\"INFJ\",\"INTP\",\"INFP\",\"ISFP\",\"INFP\",\"INFP\",\"INFP\",\"INTJ\",\"ENTP\",\"INFP\",\"INFP\",\"ISTP\",\"INTP\",\"ESFP\",\"ENTP\",\"INTJ\",\"INFP\",\"ENFP\",\"ENTJ\",\"INTP\",\"INTJ\",\"INTJ\",\"INFJ\",\"ISTJ\",\"INFJ\",\"ENFP\",\"INFP\",\"INTP\",\"ISFP\",\"ENFP\",\"INFJ\",\"ESFP\",\"INFP\",\"INTJ\",\"INFP\",\"INFP\",\"INFJ\",\"INTP\",\"ENFP\",\"INFP\",\"ENFP\",\"INFP\",\"ENFP\",\"ISFP\",\"INTP\",\"INTP\",\"ENTP\",\"INTP\",\"INTJ\",\"INFJ\",\"ESFP\",\"ISFP\",\"INFP\",\"ENFP\",\"ISFJ\",\"INFJ\",\"INFP\",\"INFP\",\"INFP\",\"INFP\",\"ENFJ\",\"INTP\",\"INFJ\",\"INTJ\",\"INTP\",\"ENTP\",\"ENTP\",\"ENFP\",\"ESTP\",\"INFP\",\"ISFP\",\"ENFJ\",\"INTJ\",\"INFJ\",\"INFJ\",\"INFP\",\"INTP\",\"INTJ\",\"INTP\",\"INTP\",\"INTP\",\"ISTJ\",\"INFP\",\"INTP\",\"ESFJ\",\"INFJ\",\"INFP\",\"INFP\",\"INFJ\",\"INFP\",\"ISTP\",\"ENFP\",\"ISFJ\",\"ESFP\",\"INTP\",\"INTJ\",\"INTJ\",\"INTP\",\"ENFP\",\"INTJ\",\"INTJ\",\"ESFP\",\"ENFJ\",\"INFJ\",\"INFP\",\"ISTJ\",\"INFP\",\"INTP\",\"INFJ\",\"ISTP\",\"ENTP\",\"INTJ\",\"INFP\",\"INTP\",\"INFJ\",\"ENFP\",\"INFP\",\"ESTJ\",\"ENTP\",\"INFP\",\"INFP\",\"INFP\",\"INTP\",\"INTJ\",\"INFP\",\"ENFP\",\"INFP\",\"INFJ\",\"INTP\",\"INFJ\",\"INFP\",\"INTJ\",\"ISFP\",\"INFP\",\"INFJ\",\"INTJ\",\"ENFP\",\"INTP\",\"INFJ\",\"INFP\",\"INFJ\",\"INTP\",\"INFP\",\"INFJ\",\"ENTP\",\"INFP\",\"INTJ\",\"ENTP\",\"ISTP\",\"ENFP\",\"ISFP\",\"ESFJ\",\"ENFP\",\"ISTP\",\"INTJ\",\"INFJ\",\"INFP\",\"INTJ\",\"INTP\",\"INFJ\",\"ISFJ\",\"ENTP\",\"ENTJ\",\"INFP\",\"INFJ\",\"ENTP\",\"INFP\",\"INFJ\",\"INTP\",\"INTJ\",\"INFJ\",\"INTJ\",\"INTJ\",\"INTP\",\"INTP\",\"INTJ\",\"INTJ\",\"INTP\",\"ENTP\",\"ISFJ\",\"ESTP\",\"INFJ\",\"INTP\",\"ENFJ\",\"INFP\",\"INFP\",\"INFJ\",\"INTP\",\"INTP\",\"INFP\",\"INFJ\",\"INFP\",\"ISTP\",\"INTP\",\"ENFP\",\"INTJ\",\"INTP\",\"ENTP\",\"ENTP\",\"INTJ\",\"ISTP\",\"ENTP\",\"INTJ\",\"INTJ\",\"INTP\",\"ENFP\",\"INTP\",\"INTP\",\"INFJ\",\"INTJ\",\"INFJ\",\"ENFP\",\"ENFJ\",\"INTP\",\"INTJ\",\"ENTJ\",\"INFJ\",\"INFP\",\"INFJ\",\"ENFP\",\"INFP\",\"INFJ\",\"INFP\",\"INTP\",\"ENTP\",\"INFJ\",\"INFP\",\"ENTP\",\"INFJ\",\"INTP\",\"INFP\",\"INFJ\",\"INFJ\",\"INFJ\",\"ENFP\",\"INFJ\",\"INFJ\",\"INFJ\",\"INFJ\",\"INFJ\",\"ISFJ\",\"INFP\",\"INFJ\",\"INFP\",\"INFJ\",\"INFP\",\"ISFP\",\"INTP\",\"INFP\",\"INTP\",\"ISTJ\",\"ISTJ\",\"ENTP\",\"INTP\",\"INTP\",\"INFJ\",\"INFP\",\"INTJ\",\"INFJ\",\"INTP\",\"ENFP\",\"INFP\",\"INTP\",\"INFP\",\"ISFP\",\"INFP\",\"INFJ\",\"INFP\",\"ENFP\",\"ENFJ\",\"ENFP\",\"INTJ\",\"INTP\",\"INFP\",\"INFP\",\"INFJ\",\"INFP\",\"ENTP\",\"ENFJ\",\"INFJ\",\"INFP\",\"INFJ\",\"ISFP\",\"INFP\",\"INFP\",\"INTP\",\"INFJ\",\"ENFJ\",\"INTJ\",\"ENFP\",\"INTP\",\"INFJ\",\"ENFJ\",\"ENTP\",\"INFP\",\"ENTP\",\"ISFP\",\"INFP\",\"ENFP\",\"ISTP\",\"INFJ\",\"ENFP\",\"ENTJ\",\"INFP\",\"INFP\",\"INFP\",\"INFP\",\"INFJ\",\"ENTP\",\"ENFJ\",\"INFP\",\"INFJ\",\"INFP\",\"ENFP\",\"INTP\",\"INTJ\",\"ENFP\",\"ENFP\",\"INTP\",\"INTJ\",\"INFP\",\"INTJ\",\"INFP\",\"INFP\",\"INTP\",\"ISTJ\",\"INTP\",\"ISTP\",\"INTJ\",\"ENFP\",\"INTP\",\"ENFJ\",\"ENFP\",\"INTJ\",\"INFJ\",\"ENFP\",\"INFJ\",\"ENFP\",\"INFJ\",\"INTJ\",\"INTP\",\"INTP\",\"INFP\",\"INFP\",\"INFJ\",\"ESFP\",\"INTP\",\"ENTP\",\"INFJ\",\"INFP\",\"INFJ\",\"INFJ\",\"ENTP\",\"ISTP\",\"ENFP\",\"INFP\",\"ISFP\",\"ENTP\",\"ESFJ\",\"INTP\",\"INTJ\",\"INTP\",\"ENFP\",\"INTJ\",\"ENTP\",\"INTP\",\"INFP\",\"INFJ\",\"INFJ\",\"ESTP\",\"INFP\",\"ESTP\",\"INTJ\",\"INFJ\",\"ENTJ\",\"INFJ\",\"INTP\",\"ISTP\",\"INTJ\",\"ENTP\",\"INFP\",\"INFJ\",\"INTJ\",\"ISTJ\",\"INFP\",\"INTJ\",\"ENTP\",\"ISTP\",\"INTP\",\"ENFP\",\"INFP\",\"INFP\",\"INFJ\",\"INFJ\",\"INFJ\",\"ISFJ\",\"INTP\",\"ENFJ\",\"INTP\",\"INTP\",\"ISFP\",\"INFJ\",\"ENTJ\",\"ESFJ\",\"INTP\",\"ISTJ\",\"ENTP\",\"INTP\",\"INFP\",\"ENTP\",\"ENFJ\",\"INFP\",\"ENFP\",\"INFP\",\"INTJ\",\"ENTJ\",\"INFP\",\"INFP\",\"INFP\",\"INTP\",\"ISTP\",\"ESFJ\",\"ENFJ\",\"INFP\",\"INTJ\",\"INFJ\",\"ENTJ\",\"INTJ\",\"INFP\",\"INFJ\",\"INFP\",\"INFJ\",\"ISTP\",\"ENTP\",\"INTJ\",\"INFJ\",\"ENTP\",\"ISFJ\",\"INTP\",\"ISFJ\",\"INTP\",\"INFP\",\"ISTP\",\"INFJ\",\"INFP\",\"INTJ\",\"ISTP\",\"INFP\",\"ISTJ\",\"INFP\",\"ENFJ\",\"ISTP\",\"INTP\",\"INFP\",\"INFP\",\"INFP\",\"INFP\",\"INFJ\",\"INFP\",\"ENTP\",\"INTP\",\"INTJ\",\"INFJ\",\"ENFP\",\"INFP\",\"ISTJ\",\"INTP\",\"INTP\",\"ISTJ\",\"INFP\",\"ENTP\",\"INFP\",\"INFP\",\"INFP\",\"INTJ\",\"INTJ\",\"INFJ\",\"ISFP\",\"INFP\",\"INTJ\",\"INFP\",\"ISFP\",\"INFJ\",\"INFJ\",\"INTP\",\"INTP\",\"ENTP\",\"ENFP\",\"INFJ\",\"INFP\",\"INTJ\",\"INTJ\",\"ENFJ\",\"INFJ\",\"ISFP\",\"ENTJ\",\"INFP\",\"INTP\",\"INFP\",\"ESFP\",\"INFP\",\"ISFP\",\"INTJ\",\"INTP\",\"INTP\",\"INFP\",\"INTJ\",\"INFJ\",\"ISFP\",\"INFP\",\"INFJ\",\"INFP\",\"INFP\",\"ENTJ\",\"INFJ\",\"INTP\",\"INTJ\",\"INFJ\",\"ENTP\",\"INTP\",\"ENTJ\",\"ISFJ\",\"INFP\",\"INFP\",\"ENFP\",\"INFJ\",\"INTJ\",\"INFP\",\"ISTP\",\"INFP\",\"ENTP\",\"INFJ\",\"INTP\",\"INTJ\",\"INFP\",\"INFP\",\"INFJ\",\"INFJ\",\"ISFP\",\"ENTP\",\"INFP\",\"INFJ\",\"ISTP\",\"ENTP\",\"INFJ\",\"INTP\",\"INTP\",\"INTJ\",\"ISFP\",\"INTP\",\"ENTJ\",\"ISTJ\",\"ESFP\",\"INTP\",\"INFP\",\"INFP\",\"INFJ\",\"INTP\",\"INFP\",\"INFJ\",\"INFJ\",\"ISTP\",\"INFJ\",\"INTJ\",\"ISTP\",\"INTJ\",\"INTP\",\"ISTJ\",\"ENFP\",\"INFP\",\"INTP\",\"INFJ\",\"INFP\",\"INTJ\",\"ISTJ\",\"INTP\",\"ENTP\",\"INFP\",\"INFP\",\"ENFP\",\"INFJ\",\"ISTJ\",\"INFP\",\"ENFJ\",\"ENTP\",\"ISFP\",\"ESTJ\",\"ENFJ\",\"INFP\",\"INFJ\",\"INTJ\",\"INTJ\",\"INFP\",\"INFJ\",\"ENTP\",\"INTJ\",\"INTJ\",\"INTJ\",\"ENFP\",\"INTP\",\"INTP\",\"ISTP\",\"ENFP\",\"INTP\",\"INFP\",\"ISFJ\",\"ISTP\",\"INTJ\",\"INTJ\",\"ENTP\",\"INFP\",\"INFJ\",\"INFP\",\"INFJ\",\"INFJ\",\"INFP\",\"INTJ\",\"ENTP\",\"INFJ\",\"INTP\",\"INFP\",\"INFJ\",\"INFJ\",\"ISFP\",\"INTP\",\"ISTP\",\"INTP\",\"INFJ\",\"INTJ\",\"INFP\",\"INFP\",\"ISTP\",\"INFP\",\"INTP\",\"INFJ\",\"INTP\",\"ESTP\",\"ENTJ\",\"ENTP\",\"INFP\",\"ESTP\",\"INFP\",\"INFJ\",\"ENTP\",\"INFP\",\"INFJ\",\"INFJ\",\"INTP\",\"INFJ\",\"INFJ\",\"ENFP\",\"INTJ\",\"INTJ\",\"ENFJ\",\"INTP\",\"INFP\",\"ISFJ\",\"INFP\",\"INTJ\",\"INFJ\",\"ENTP\",\"INFP\",\"ENFJ\",\"ENTP\",\"ISFP\",\"ENFP\",\"ENFP\",\"INFJ\",\"INFP\",\"INFP\",\"ESFP\",\"INFP\",\"INFJ\",\"INTJ\",\"INFP\",\"INFP\",\"ENTP\",\"INFP\",\"ENFP\",\"ENTP\",\"INTP\",\"ISFP\",\"INTP\",\"INFJ\",\"ISTP\",\"INFP\",\"INFJ\",\"INTJ\",\"INFP\",\"ENTP\",\"INTJ\",\"INTJ\",\"INTJ\",\"INFP\",\"INTP\",\"INTP\",\"INTJ\",\"INTP\",\"ENFJ\",\"ENTP\",\"ENTP\",\"ENFP\",\"INFJ\",\"INTJ\",\"ISTP\",\"ENFP\",\"INTP\",\"ENTP\",\"ENTP\",\"ESFJ\",\"ENTP\",\"ENFP\",\"ESTP\",\"INTP\",\"INFJ\",\"ISFP\",\"ENFP\",\"INFP\",\"ESTP\",\"ENTJ\",\"INFP\",\"INTP\",\"ENTJ\",\"INTP\",\"INTJ\",\"ENFP\",\"INFJ\",\"INFP\",\"ENFP\",\"ENFJ\",\"INTJ\",\"INTJ\",\"INTP\",\"INTJ\",\"INFP\",\"ENTP\",\"INTP\",\"INTP\",\"INTP\",\"ENFJ\",\"INTP\",\"ENFP\",\"ESFJ\",\"INFP\",\"ENFP\",\"INFP\",\"INFP\",\"INTJ\",\"ENFP\",\"ESTP\",\"ENTP\",\"INFJ\",\"INTP\",\"INTP\",\"INTP\",\"ENTP\",\"INFP\",\"ENTJ\",\"INFP\",\"INFP\",\"INTJ\",\"INTP\",\"INTJ\",\"ESFP\",\"INTP\",\"INFJ\",\"INTP\",\"ENTJ\",\"ENFJ\",\"ENTP\",\"ENFJ\",\"INFP\",\"INTJ\",\"ENTP\",\"ESTP\",\"ISFP\",\"INTJ\",\"INFJ\",\"INFJ\",\"INFJ\",\"INTP\",\"INFJ\",\"ESFP\",\"INFP\",\"INFP\",\"INTP\",\"INFJ\",\"INFJ\",\"INTP\",\"INFJ\",\"ENTP\",\"INTP\",\"INFJ\",\"ENFJ\",\"INTP\",\"INTP\",\"INTP\",\"INFJ\",\"ESTP\",\"INFP\",\"ISTP\",\"INFP\",\"INFP\",\"INFJ\",\"INTJ\",\"INFP\",\"INTP\",\"INTJ\",\"INFP\",\"INFJ\",\"INTJ\",\"ENFP\",\"ENTP\",\"INTJ\",\"ENFP\",\"INTP\",\"INTP\",\"ESTJ\",\"ESTP\",\"ISTP\",\"INFJ\",\"INFP\",\"INFP\",\"ENFP\",\"INFP\",\"INFP\",\"ISFP\",\"INFP\",\"INTJ\",\"INTP\",\"INTP\",\"INFJ\",\"ESTJ\",\"ENFJ\",\"ENTP\",\"INFP\",\"INTP\",\"INTP\",\"ISTP\",\"ISTP\",\"ISTJ\",\"INTJ\",\"INFP\",\"INTP\",\"ISFP\",\"ISFJ\",\"INFP\",\"ISTJ\",\"ENFJ\",\"INTP\",\"INTP\",\"ENFP\",\"INTP\",\"INFJ\",\"INTJ\",\"INFJ\",\"INFP\",\"INTP\",\"ISFP\",\"INFP\",\"INFJ\",\"INTP\",\"ISTJ\",\"INFP\",\"INFJ\",\"INTJ\",\"INFP\",\"ENTP\",\"INTP\",\"ENTP\",\"INTJ\",\"ISTJ\",\"INFJ\",\"INTJ\",\"ENTJ\",\"ENFP\",\"INFP\",\"INFP\",\"INFJ\",\"INTJ\",\"INTP\",\"INTP\",\"INTP\",\"INFJ\",\"ISFP\",\"INTP\",\"INTJ\",\"ISTP\",\"INFJ\",\"INFP\",\"ENTP\",\"INTJ\",\"INFP\",\"INTP\",\"INFJ\",\"INTJ\",\"INFJ\",\"ISTP\",\"INFJ\",\"INFP\",\"INFP\",\"INFJ\",\"INFP\",\"ENFP\",\"INFP\",\"INTJ\",\"INFJ\",\"ENTP\",\"INTJ\",\"INFP\",\"ISFJ\",\"INFJ\",\"ESTP\",\"INFJ\",\"INTP\",\"ENFP\",\"INFP\",\"INTJ\",\"INFP\",\"INTJ\",\"INTJ\",\"ISTJ\",\"INFP\",\"INTP\",\"INFJ\",\"INFJ\",\"INTJ\",\"ENTP\",\"ISFJ\",\"INTJ\",\"ISTJ\",\"ENFP\",\"ENFP\",\"INTJ\",\"INFJ\",\"INFJ\",\"ENTP\",\"INFP\",\"ENTP\",\"ISTP\",\"INFP\",\"INFP\",\"INTP\",\"INFJ\",\"INFJ\",\"INFJ\",\"ISTJ\",\"INFP\",\"ISFJ\",\"INFP\",\"ENFP\",\"INTP\",\"INFP\",\"INTP\",\"INFP\",\"INFP\",\"INFJ\",\"INTP\",\"INTP\",\"INFP\",\"INTJ\",\"INFJ\",\"ENTP\",\"INFP\",\"INTJ\",\"INTJ\",\"INFP\",\"INFP\",\"INFP\",\"ENFP\",\"ISTP\",\"INFP\",\"INTP\",\"ESFP\",\"INFP\",\"ENFP\",\"INFJ\",\"ENFP\",\"INTJ\",\"INTP\",\"ISTJ\",\"INFP\",\"INFJ\",\"ISTP\",\"ENTP\",\"ENTP\",\"ENFP\",\"ENTJ\",\"ENFP\",\"ISFP\",\"INFP\",\"INTJ\",\"INFJ\",\"INTJ\",\"INFJ\",\"INTJ\",\"INTP\",\"ENFJ\",\"INTJ\",\"INTJ\",\"INFP\",\"ISTJ\",\"ENTJ\",\"INFJ\",\"INFJ\",\"INFJ\",\"ENTP\",\"INFJ\",\"INTP\",\"ISTP\",\"INFP\",\"INFP\",\"INFJ\",\"INFJ\",\"ENFP\",\"INFP\",\"INFJ\",\"INTP\",\"INTJ\",\"ISFJ\",\"INTJ\",\"INFP\",\"ENFJ\",\"INFJ\",\"INTP\",\"ISTP\",\"ENFP\",\"INTP\",\"ENFP\",\"INFJ\",\"INFJ\",\"ENTP\",\"ENFJ\",\"INTJ\",\"ENFP\",\"ISTP\",\"INTP\",\"INTJ\",\"INTJ\",\"ENFP\",\"ISTP\",\"ENFP\",\"INTJ\",\"INFP\",\"INFJ\",\"ENFJ\",\"INTJ\",\"ENTP\",\"INFJ\",\"INTP\",\"INTJ\",\"INFJ\",\"INTJ\",\"INTP\",\"INTP\",\"ISTJ\",\"INFP\",\"ENFP\",\"ENTJ\",\"INTP\",\"ENTP\",\"INFP\",\"INTP\",\"INFP\",\"ENTP\",\"INTJ\",\"INFJ\",\"ENTP\",\"INTJ\",\"INFP\",\"INFP\",\"ENTP\",\"ESFJ\",\"INFJ\",\"INFP\",\"ENTP\",\"INFP\",\"INTP\",\"INFP\",\"INFP\",\"INFP\",\"INFJ\",\"INFJ\",\"INFJ\",\"INFJ\",\"ISTJ\",\"INTJ\",\"ENFJ\",\"ENFP\",\"INTP\",\"INTJ\",\"INFP\",\"ENTP\",\"INFP\",\"INFJ\",\"ISTP\",\"INTJ\",\"INTP\",\"INFJ\",\"ENTP\",\"ISTJ\",\"INFP\",\"INTJ\",\"INFP\",\"INTP\",\"INTJ\",\"ISFP\",\"INFJ\",\"INTP\",\"INTP\",\"INFJ\",\"INTP\",\"INFJ\",\"ENFP\",\"ENTP\",\"ISTP\",\"INTP\",\"INFP\",\"INFP\",\"INFJ\",\"INFJ\",\"INFJ\",\"INTJ\",\"INTJ\",\"INFJ\",\"INFJ\",\"INFP\",\"INFP\",\"ENFJ\",\"ISFP\",\"INTP\",\"ENFJ\",\"INTJ\",\"ENTP\",\"INTP\",\"INFJ\",\"INTP\",\"ENFJ\",\"INTJ\",\"INFJ\",\"INFP\",\"INTJ\",\"ENFP\",\"INFP\",\"INTP\",\"INTP\",\"INFJ\",\"INTP\",\"ENTP\",\"INTJ\",\"INFP\",\"INFJ\",\"INTP\",\"INFJ\",\"INFP\",\"ENFP\",\"INTP\",\"ISTJ\",\"INFJ\",\"ISFP\",\"INFJ\",\"INFP\",\"INFP\",\"INTP\",\"INFJ\",\"INTJ\",\"INTJ\",\"ENTP\",\"INFP\",\"ENTJ\",\"ENFP\",\"INTJ\",\"ENFP\",\"ENTJ\",\"ISFP\",\"INFJ\",\"INTP\",\"INFP\",\"INFP\",\"INTP\",\"INFP\",\"INTP\",\"INTJ\",\"ISFP\",\"ENFP\",\"INFP\",\"INTJ\",\"ISTP\",\"INTJ\",\"INFJ\",\"ISFJ\",\"INTJ\",\"ENTP\",\"INTP\",\"INTP\",\"INFJ\",\"INTP\",\"INFP\",\"ENTP\",\"ENTP\",\"INFJ\",\"ENTP\",\"ISTP\",\"INTP\",\"INTJ\",\"INFJ\",\"INFP\",\"INFJ\",\"INFJ\",\"ENFP\",\"INFJ\",\"INTP\",\"INFJ\",\"INFJ\",\"INTP\",\"INFP\",\"INFJ\",\"INFJ\",\"ENTP\",\"INFP\",\"INFP\",\"ISFP\",\"ISFJ\",\"INFP\",\"INTP\",\"ISTP\",\"INFP\",\"INFP\",\"ISTJ\",\"INTJ\",\"INFJ\",\"ISFP\",\"INTP\",\"INTJ\",\"INTP\",\"INFJ\",\"INTJ\",\"INTJ\",\"ENFJ\",\"INTP\",\"INFJ\",\"INFP\",\"INTJ\",\"INTP\",\"INFP\",\"INFJ\",\"INTP\",\"INTJ\",\"INFJ\",\"INFJ\",\"ISFP\",\"INFP\",\"ISTP\",\"INTP\",\"ENFP\",\"INFJ\",\"ENFP\",\"ESTP\",\"ISFP\",\"INFP\",\"ISTJ\",\"ENFJ\",\"ISTJ\",\"ISFJ\",\"ISTP\",\"INTJ\",\"INFJ\",\"ENFJ\",\"ISFJ\",\"INFP\",\"ISTP\",\"INFP\",\"INTP\",\"INFJ\",\"INFJ\",\"INTP\",\"INFP\",\"INTJ\",\"INFJ\",\"INTJ\",\"ENTP\",\"ENFP\",\"INFP\",\"INFJ\",\"INFP\",\"INFJ\",\"ISFP\",\"INTP\",\"ENFP\",\"INTP\",\"ENFP\",\"INTP\",\"INTJ\",\"ISTP\",\"INTP\",\"INFP\",\"ENFP\",\"ENTP\",\"INTP\",\"INTJ\",\"INTP\",\"INFJ\",\"INFP\",\"ENTP\",\"INFP\",\"ISTP\",\"INFJ\",\"INFJ\",\"INFP\",\"INFP\",\"ENTP\",\"INFP\",\"INFP\",\"INTP\",\"ENFP\",\"INTP\",\"INFJ\",\"INFJ\",\"INTJ\",\"INFJ\",\"ENTJ\",\"INTJ\",\"INTP\",\"INFP\",\"INFP\",\"INTJ\",\"INFJ\",\"INTP\",\"ENTP\",\"ESFJ\",\"INFJ\",\"ENFP\",\"INFP\",\"INFJ\",\"INFP\",\"INFP\",\"INTJ\",\"INTP\",\"INFP\",\"ENTP\",\"INTJ\",\"INFP\",\"INFJ\",\"INFP\",\"INFJ\",\"INTJ\",\"INFP\",\"ENTP\",\"INFJ\",\"INFP\",\"INFJ\",\"INFP\",\"INFJ\",\"ISTP\",\"ISTP\",\"INFP\",\"INFP\",\"ISFP\",\"INFP\",\"ENFP\",\"INTP\",\"INTJ\",\"INTJ\",\"INTP\",\"ISTP\",\"INTJ\",\"ENTP\",\"INTP\",\"ISFJ\",\"INTP\",\"ENTJ\",\"INFP\",\"INFJ\",\"INTJ\",\"ENTP\",\"ENTP\",\"ENFP\",\"INFJ\",\"ENTP\",\"ISTP\",\"ENFP\",\"INTJ\",\"ENFP\",\"ENTP\",\"INFP\",\"ENTP\",\"ENFP\",\"INFJ\",\"INTP\",\"ENTJ\",\"ENTP\",\"ESFP\",\"ENTP\",\"INFP\",\"INFP\",\"INTP\",\"INTP\",\"INTP\",\"ISTP\",\"INFP\",\"INTP\",\"ENTJ\",\"INTP\",\"INFP\",\"INTP\",\"ISFP\",\"INTJ\",\"ISTP\",\"ISTP\",\"INFJ\",\"INFJ\",\"ISTJ\",\"ISFP\",\"ISFP\",\"ENTP\",\"INFP\",\"ENTP\",\"INFP\",\"INFP\",\"INFJ\",\"ISFP\",\"INTJ\",\"INFP\",\"INTJ\",\"INTJ\",\"INTP\",\"INTP\",\"INTP\",\"ISTJ\",\"INTJ\",\"INFJ\",\"ENTP\",\"ENTP\",\"INTP\",\"INTJ\",\"ENTJ\",\"ISTP\",\"INTP\",\"INTJ\",\"INFP\",\"INFP\",\"ENFJ\",\"INTP\",\"ISTJ\",\"ISTP\",\"INTP\",\"INTP\",\"INFJ\",\"INTJ\",\"INTP\",\"INFP\",\"ISTP\",\"INFP\",\"INTP\",\"INTP\",\"INFP\",\"INFJ\",\"INFJ\",\"INTP\",\"ENTJ\",\"INTP\",\"ENFP\",\"ISFJ\",\"ENTP\",\"ENFP\",\"INTP\",\"INFJ\",\"INTJ\",\"ISFJ\",\"INTP\",\"INFP\",\"INFP\",\"INTP\",\"INFP\",\"INTJ\",\"INTJ\",\"ENFP\",\"INFP\",\"INTJ\",\"ESTP\",\"INFP\",\"INFP\",\"ENTP\",\"ENTP\",\"INTP\",\"ISFP\",\"INFP\",\"ISTP\",\"INFP\",\"INTJ\",\"ENFP\",\"INFJ\",\"ISFJ\",\"INFP\",\"ENFP\",\"INTP\",\"INTP\",\"INFP\",\"ISTJ\",\"INFJ\",\"INTJ\",\"ISTJ\",\"INFP\",\"INTP\",\"INTP\",\"INTP\",\"INFP\",\"INTP\",\"ENTJ\",\"INFP\",\"INFP\",\"ENTJ\",\"ENFP\",\"INFJ\",\"INTP\",\"INTJ\",\"INFP\",\"ENTP\",\"INFP\",\"ENTP\",\"INFJ\",\"INFP\",\"INTJ\",\"INFJ\",\"INFP\",\"INFP\",\"INTP\",\"INTP\",\"INTJ\",\"INFJ\",\"INFJ\",\"INTP\",\"INFP\",\"ENFJ\",\"ISTP\",\"INTP\",\"INFP\",\"INTP\",\"ENFJ\",\"ENFJ\",\"INFJ\",\"INFP\",\"INFP\",\"INFJ\",\"INFP\",\"ISFP\",\"INFJ\",\"INTP\",\"INTP\",\"INTJ\",\"ENFP\",\"INTP\",\"ENFJ\",\"ENTP\",\"INFJ\",\"ENTP\",\"ISTP\",\"INFJ\",\"INTJ\",\"INFJ\",\"INFP\",\"INFJ\",\"ISFJ\",\"INFP\",\"INFP\",\"INFP\",\"INTP\",\"INFP\",\"INTP\",\"INFJ\",\"ISFP\",\"INTJ\",\"INTJ\",\"INFP\",\"ENFP\",\"INTP\",\"ENFP\",\"INTJ\",\"INTP\",\"INTP\",\"ISTP\",\"INTJ\",\"ENFP\",\"INFP\",\"INTJ\",\"INTP\",\"INTP\",\"INFP\",\"ENFP\",\"ENFP\",\"INTP\",\"INFP\",\"ENTP\",\"ENTP\",\"INTJ\",\"ISFJ\",\"ENFP\",\"INFP\",\"ENTP\",\"INTJ\",\"INFJ\",\"ENTP\",\"INFP\",\"ENTP\",\"INFP\",\"INTJ\",\"INFP\",\"INTJ\",\"INFP\",\"ENFJ\",\"ISFP\",\"INFJ\",\"INFP\",\"INTJ\",\"INFP\",\"ESFP\",\"INTP\",\"INTP\",\"INFJ\",\"ENFJ\",\"INTP\",\"INTJ\",\"INFJ\",\"ISFJ\",\"INFJ\",\"INTJ\",\"INTP\",\"INTP\",\"INFP\",\"ISFJ\",\"INFJ\",\"ENTJ\",\"ENFP\",\"ISFP\",\"INTJ\",\"INFP\",\"INFJ\",\"INFJ\",\"INTJ\",\"INFJ\",\"INTJ\",\"INTJ\",\"ISFP\",\"INTJ\",\"ENTP\",\"INTP\",\"INFJ\",\"ESFP\",\"INTJ\",\"INTP\",\"INFJ\",\"ENTP\",\"INTP\",\"ISFJ\",\"ENTP\",\"INFP\",\"ISTJ\",\"INFP\",\"INFJ\",\"INFJ\",\"INFJ\",\"ENTP\",\"ENTP\",\"INFP\",\"INFJ\",\"INFJ\",\"INFP\",\"INFJ\",\"INFJ\",\"ENFJ\",\"INFJ\",\"ISFP\",\"INFP\",\"INFP\",\"INFP\",\"INTP\",\"INFP\",\"ISFJ\",\"INFJ\",\"INFP\",\"ISFP\",\"INTP\",\"INFJ\",\"ENFP\",\"INTP\",\"ENTP\",\"INFP\",\"INFP\",\"INTP\",\"INFP\",\"INFP\",\"INTJ\",\"INFJ\",\"INFP\",\"ENTP\",\"INFJ\",\"ISFP\",\"ENFP\",\"ENFP\",\"INFP\",\"INFP\",\"ENTP\",\"INFJ\",\"ISTJ\",\"INFJ\",\"INTP\",\"INFJ\",\"INFJ\",\"INFP\",\"INFJ\",\"INFJ\",\"INFP\",\"ISTJ\",\"INFP\",\"INFP\",\"ESFJ\",\"ENFP\",\"INFJ\",\"INFP\",\"INFP\",\"INTJ\",\"ENFP\",\"INFJ\",\"INFJ\",\"INFP\",\"INTP\",\"ISFJ\",\"ENTP\",\"INFJ\",\"ENFP\",\"INTJ\",\"INFP\",\"INFP\",\"INTP\",\"INTJ\",\"ISTP\",\"INFP\",\"INFJ\",\"INTJ\",\"INFJ\",\"ISFJ\",\"INFJ\",\"ENTP\",\"INFJ\",\"ISFJ\",\"INFJ\",\"INFP\",\"ESTP\",\"INFJ\",\"ISFP\",\"INFP\",\"ISFP\",\"ENTP\",\"INFP\",\"INFJ\",\"INTP\",\"ENTJ\",\"ISTP\",\"ISTJ\",\"ISFJ\",\"ENTJ\",\"INTP\",\"INFJ\",\"INTP\",\"ISTP\",\"ESFJ\",\"INFP\",\"INTJ\",\"INTJ\",\"INFJ\",\"INFP\",\"INFP\",\"INFJ\",\"INTJ\",\"ISFP\",\"INFP\",\"INFJ\",\"ESFP\",\"INTP\",\"INFP\",\"ENTP\",\"ISTP\",\"INFP\",\"ENFP\",\"INFP\",\"ENTP\",\"INFP\",\"ENFP\",\"INFJ\",\"INFJ\",\"INTP\",\"INTJ\",\"INTP\",\"INTJ\",\"INTJ\",\"ENTJ\",\"ENFP\",\"INTJ\",\"INFP\",\"ISFP\",\"INTJ\",\"INTP\",\"ISTP\",\"ISTJ\",\"INFJ\",\"INTJ\",\"INFJ\",\"INTP\",\"INTJ\",\"INFP\",\"ENTJ\",\"ENTP\",\"ENFJ\",\"ESFJ\",\"ENFP\",\"ISFP\",\"INFJ\",\"INFP\",\"INFP\",\"INTJ\",\"INTJ\",\"INFP\",\"INFJ\",\"INFP\",\"INFP\",\"INFP\",\"ISTP\",\"INFP\",\"ENTP\",\"ENTP\",\"ENTP\",\"ENFP\",\"ISTP\",\"INTJ\",\"ESFJ\",\"INFJ\",\"ENTP\",\"ISTJ\",\"INFJ\",\"ENTP\",\"INTJ\",\"INTP\",\"INTJ\",\"INTJ\",\"INTJ\",\"INFJ\",\"INTP\",\"INTP\",\"ESFJ\",\"INFP\",\"INFJ\",\"INTP\",\"INFP\",\"INFP\",\"INFP\",\"ENFP\",\"ENFP\",\"INTP\",\"INFJ\",\"INFP\",\"INFP\",\"INTP\",\"ENFP\",\"INFP\",\"INFP\",\"INTP\",\"ISFP\",\"INFP\",\"ISTJ\",\"INFJ\",\"INFJ\",\"ENTP\",\"INTP\",\"INFP\",\"INTP\",\"INFJ\",\"INTJ\",\"INTJ\",\"INTJ\",\"ENTP\",\"INFP\",\"ENTP\",\"INTJ\",\"INTJ\",\"INFP\",\"INFJ\",\"ISTP\",\"INFJ\",\"ESTJ\",\"INFJ\",\"ENTP\",\"INFJ\",\"INFJ\",\"INFP\",\"INTJ\",\"INFP\",\"ENFP\",\"INTJ\",\"INFP\",\"INFJ\",\"ENFP\",\"INTJ\",\"ENFP\",\"ISFP\",\"ENFP\",\"INTJ\",\"INTJ\",\"ENFP\",\"INTP\",\"INTP\",\"ENTP\",\"ENTP\",\"INFP\",\"ISFJ\",\"ENTP\",\"INTP\",\"INTP\",\"INFP\",\"INTJ\",\"ISTJ\",\"INFJ\",\"INTP\",\"ENFP\",\"INFP\",\"INTP\",\"INTJ\",\"ENFP\",\"ENTP\",\"ENFP\",\"INFJ\",\"INFP\",\"INTJ\",\"ISTP\",\"INTP\",\"INFP\",\"ISFP\",\"ENTP\",\"INTP\",\"INFJ\",\"ENTJ\",\"INTJ\",\"ISFJ\",\"ESFJ\",\"INFJ\",\"ENFP\",\"INFJ\",\"INTJ\",\"INFP\",\"INFJ\",\"INFJ\",\"INFJ\",\"INFP\",\"ESTP\",\"ENFP\",\"INFJ\",\"ENTP\",\"INFP\",\"INFJ\",\"INFP\",\"ISTP\",\"INTJ\",\"INFP\",\"ENFJ\",\"ENFJ\",\"INTP\",\"ENTP\",\"INTP\",\"INTP\",\"INFJ\",\"ISTJ\",\"INFJ\",\"ESTJ\",\"INTJ\",\"INFP\",\"INFP\",\"INTP\",\"ENTP\",\"INTP\",\"INFJ\",\"INFP\",\"INTP\",\"INFP\",\"INTP\",\"ESTJ\",\"INTJ\",\"ISTJ\",\"INTP\",\"ENTP\",\"ENTJ\",\"INFP\",\"INFP\",\"ENTP\",\"INTP\",\"ENFP\",\"ISFJ\",\"INFJ\",\"INTP\",\"ENTJ\",\"INFP\",\"ISTJ\",\"ENTP\",\"INFP\",\"INFP\",\"INFP\",\"INFP\",\"INFP\",\"INTJ\",\"INTJ\",\"INFP\",\"INFP\",\"ENTJ\",\"ISFP\",\"INFP\",\"ENFP\",\"ISFP\",\"ENFP\",\"INFP\",\"INTJ\",\"INFP\",\"ENFP\",\"INFP\",\"INTJ\",\"INFP\",\"INFP\",\"INFP\",\"ISFJ\",\"INTP\",\"ENFP\",\"INFP\",\"INTJ\",\"ISFP\",\"ENFP\",\"INTP\",\"ENFP\",\"ENFP\",\"INFP\",\"INTP\",\"ISFP\",\"INFJ\",\"ENTP\",\"INFJ\",\"INFJ\",\"ISTJ\",\"ISTP\",\"INTJ\",\"INTJ\",\"ENFP\",\"INTJ\",\"INFP\",\"INTP\",\"INTP\",\"ENFJ\",\"ENFP\",\"ISTJ\",\"ENFJ\",\"INTJ\",\"ISTP\",\"INFP\",\"ISTP\",\"INTJ\",\"ISFP\",\"INFJ\",\"ENFP\",\"INFJ\",\"INFP\",\"INTJ\",\"INFJ\",\"ISTP\",\"INFJ\",\"INFP\",\"INFP\",\"INTP\",\"INTJ\",\"ISTP\",\"INTJ\",\"ENTP\",\"ENFP\",\"ENTP\",\"INTJ\",\"INFP\",\"ENFP\",\"INFP\",\"INFJ\",\"INFP\",\"ENTJ\",\"INTP\",\"INFP\",\"INTJ\",\"ISTP\",\"ENTJ\",\"INFP\",\"INTP\",\"INFJ\",\"ISFJ\",\"INFJ\",\"INTP\",\"INFJ\",\"ISTJ\",\"INFP\",\"INTP\",\"INFP\",\"INTP\",\"INTP\",\"INFP\",\"ENTP\",\"ENTP\",\"ESTP\",\"INTJ\",\"INTP\",\"INFJ\",\"ISFP\",\"ENTP\",\"INFP\",\"INTP\",\"INFJ\",\"INTP\",\"ISTJ\",\"INTJ\",\"INFP\",\"ISTJ\",\"INTP\",\"INFJ\",\"INFJ\",\"INFP\",\"INTJ\",\"INFP\",\"INTJ\",\"INTJ\",\"ENTJ\",\"ISTJ\",\"INTJ\",\"ENTP\",\"INTJ\",\"INFJ\",\"INFJ\",\"INTP\",\"INFJ\",\"ENFP\",\"ENFP\",\"ENFP\",\"INTJ\",\"INFJ\",\"INTP\",\"INFP\",\"INTP\",\"INTP\",\"INTP\",\"ISTJ\",\"ENTJ\",\"ENFP\",\"INTP\",\"INFJ\",\"INFP\",\"INFJ\",\"ENTP\",\"INFJ\",\"INFJ\",\"INFJ\",\"ENTP\",\"ESFJ\",\"INFP\",\"INFJ\",\"ISFP\",\"INFJ\",\"ISFP\",\"INFP\",\"ISTP\",\"ENTJ\",\"INFP\",\"ENTJ\",\"ENFP\",\"ISFP\",\"INFJ\",\"ISTP\",\"ENTP\",\"INFP\",\"ISTP\",\"ENTP\",\"ISTP\",\"INTJ\",\"ESFP\",\"INTP\",\"INTP\",\"ENFP\",\"INTJ\",\"INTP\",\"INTJ\",\"INFJ\",\"INFJ\",\"INTP\",\"ENTP\",\"ISTJ\",\"INTJ\",\"INFP\",\"INFP\",\"ENTJ\",\"INFP\",\"INFJ\",\"INTJ\",\"INFP\",\"INTP\",\"INFP\",\"INTP\",\"ISTP\",\"INFJ\",\"INFJ\",\"ISTP\",\"INTP\",\"INTP\",\"INFP\",\"ISFP\",\"INTP\",\"INTJ\",\"ISTP\",\"INFJ\",\"INTP\",\"INFP\",\"INFJ\",\"INFP\",\"INFJ\",\"INFP\",\"INFP\",\"ENFJ\",\"INFJ\",\"INFP\",\"ISTP\",\"INTJ\",\"INFP\",\"ENFP\",\"INFJ\",\"ESFJ\",\"INFP\",\"INTJ\",\"INFP\",\"ENTP\",\"INFP\",\"INFP\",\"ENFP\",\"INTP\",\"INTJ\",\"INFJ\",\"ENFP\",\"INTP\",\"INTP\",\"ISTP\",\"ESFP\",\"INFP\",\"INFP\",\"INFP\",\"INTP\",\"ISFP\",\"ENFP\",\"INTP\",\"INFJ\",\"INTJ\",\"ENTP\",\"ISFJ\",\"INTP\",\"INFP\",\"INFP\",\"ENFJ\",\"ENFP\",\"INFJ\",\"INFP\",\"INFJ\",\"ENFP\",\"INTP\",\"INFP\",\"INFP\",\"ENFP\",\"INFP\",\"ENFP\",\"INFP\",\"ISTP\",\"ISFJ\",\"INFP\",\"ISTJ\",\"INTP\",\"ISTJ\",\"INFJ\",\"INTJ\",\"INTJ\",\"ENTP\",\"ESTP\",\"INTJ\",\"INFP\",\"ENFJ\",\"INFP\",\"ENTJ\",\"ENTJ\",\"INTP\",\"INFJ\",\"INFJ\",\"INFP\",\"ENTP\",\"INFP\",\"INFJ\",\"INFJ\",\"ENTJ\",\"INFP\",\"ISTP\",\"ENFP\",\"ISTJ\",\"ENTP\",\"INFJ\",\"INTP\",\"ENTP\",\"ENTJ\",\"ENTP\",\"ISTP\",\"ISFJ\",\"INFP\",\"ENTJ\",\"ENTJ\",\"INTP\",\"ISFP\",\"INFP\",\"INTP\",\"INFP\",\"INFJ\",\"INTP\",\"INFJ\",\"INFJ\",\"INFJ\",\"INTP\",\"INFP\",\"INFJ\",\"INFJ\",\"INFJ\",\"ISFP\",\"INTP\",\"ENFP\",\"ISTJ\",\"ENFJ\",\"INTJ\",\"ENTP\",\"INTJ\",\"INTP\",\"INFP\",\"INFP\",\"INFP\",\"INFJ\",\"INFJ\",\"INFJ\",\"INTJ\",\"INFJ\",\"ISTP\",\"INTJ\",\"INFJ\",\"ENTP\",\"ISFP\",\"INFP\",\"ENTP\",\"INTP\",\"ESFP\",\"INTJ\",\"ENFJ\",\"INFP\",\"INFJ\",\"ISTJ\",\"INTJ\",\"INFJ\",\"INFP\",\"INFP\",\"INTP\",\"ESFP\",\"INFP\",\"INFJ\",\"INFJ\",\"INFJ\",\"INFP\",\"INFJ\",\"INFJ\",\"ISTJ\",\"INTP\",\"INTP\",\"INFJ\",\"ISFP\",\"INFP\",\"INFJ\",\"INFP\",\"INTP\",\"INTJ\",\"ENTJ\",\"ISFJ\",\"ISTJ\",\"INFP\",\"ENFJ\",\"INTP\",\"ISFJ\",\"INFJ\",\"ISFJ\",\"ISFJ\",\"INFP\",\"ESFP\",\"ENFJ\",\"INTJ\",\"ENFP\",\"ENTP\",\"INFJ\",\"ENFP\",\"INFJ\",\"ENTP\",\"ISFJ\",\"INTP\",\"INFP\",\"ENFP\",\"ENFP\",\"INTJ\",\"ISTJ\",\"INFJ\",\"ENTP\",\"INFJ\",\"INFP\",\"INFJ\",\"ENFP\",\"INTP\",\"INTP\",\"INTP\",\"ESTP\",\"INFJ\",\"INFJ\",\"INFP\",\"ENTP\",\"ENFP\",\"INTJ\",\"ESTP\",\"ENFP\",\"ENTP\",\"INFP\",\"INFP\",\"INFP\",\"ISFP\",\"INFJ\",\"INFP\",\"INFP\",\"ENFP\",\"INFP\",\"INFP\",\"ENFJ\",\"ENFP\",\"INFJ\",\"INFJ\",\"INTP\",\"INFJ\",\"INTP\",\"ENTP\",\"INFJ\",\"INTJ\",\"INFJ\",\"INTP\",\"INFP\",\"INFP\",\"INTJ\",\"INFP\",\"INTJ\",\"INTP\",\"INFP\",\"ENTJ\",\"INTP\",\"INTP\",\"ISFJ\",\"INTJ\",\"INTP\",\"INFJ\",\"INTP\",\"INTJ\",\"ESFP\",\"INTP\",\"INTJ\",\"INFJ\",\"ENTJ\",\"ENTP\",\"ENFJ\",\"INFP\",\"ENTP\",\"INFP\",\"ENFJ\",\"INFJ\",\"ENTP\",\"INFJ\",\"ESFP\",\"INTP\",\"ENTP\",\"INTP\",\"INFJ\",\"INTP\",\"ENFP\",\"ENTJ\",\"INFP\",\"INFP\",\"INFP\",\"ENFP\",\"ESTP\",\"ENFJ\",\"INFJ\",\"INTP\",\"INFP\",\"INFJ\",\"ISFJ\",\"ENFP\",\"INFJ\",\"INFP\",\"INFJ\",\"INTP\",\"INFP\",\"ENTP\",\"ISTJ\",\"INFP\",\"INFP\",\"INTP\",\"INFJ\",\"INFJ\",\"ENTP\",\"ENFJ\",\"INTP\",\"INTP\",\"INTJ\",\"INTJ\",\"INFJ\",\"INFP\",\"INFP\",\"INTP\",\"INFP\",\"ENTP\",\"INFP\",\"INFP\",\"INFJ\",\"ENFP\",\"ENFP\",\"INTJ\",\"ESFJ\",\"INFP\",\"ENFP\",\"INTP\",\"INFJ\",\"INFP\",\"ISTP\",\"INFP\",\"INFJ\",\"INTP\",\"INTP\",\"ENTP\",\"ENFP\",\"INFJ\",\"INFP\",\"INFP\",\"INTP\",\"ESFP\",\"INFP\",\"INTJ\",\"ISFP\",\"INFP\",\"INTJ\",\"ENTP\",\"ENFP\",\"INTP\",\"INFJ\",\"INTJ\",\"INFP\",\"INTP\",\"INTJ\",\"INFJ\",\"INFJ\",\"ISTP\",\"ISTP\",\"ISFJ\",\"INFP\",\"INFP\",\"ESFJ\",\"ENTP\",\"ISTP\",\"INFP\",\"ENTJ\",\"ENTJ\",\"INFP\",\"INFP\",\"INTJ\",\"INFJ\",\"INFJ\",\"INFJ\",\"ENTP\",\"INFP\",\"ENTP\",\"ENTP\",\"ISFP\",\"INTJ\",\"ISFP\",\"INTP\",\"INTJ\",\"INTP\",\"INFP\",\"INTP\",\"INFJ\",\"INFJ\",\"INFP\",\"INTJ\",\"INTJ\",\"ENTP\",\"ENTP\",\"INTJ\",\"INFP\",\"INFJ\",\"ESTP\",\"INFJ\",\"ESTP\",\"ISFP\",\"ENTP\",\"INTP\",\"ENFP\",\"INFP\",\"INFJ\",\"ENTP\",\"INFP\",\"INFP\",\"INFP\",\"INFJ\",\"INTP\",\"INTJ\",\"INFJ\",\"INTP\",\"INFJ\",\"INTJ\",\"ESTJ\",\"INFJ\",\"INFP\",\"ISTP\",\"INFJ\",\"INFP\",\"ISTJ\",\"INFP\",\"ENTJ\",\"ISTJ\",\"ESFJ\",\"ENTJ\",\"INFP\",\"INFP\",\"INTJ\",\"INFP\",\"INTJ\",\"INTP\",\"INFJ\",\"ENFJ\",\"INFP\",\"INFP\",\"INTJ\",\"INFP\",\"INTJ\",\"INTP\",\"ENTP\",\"INFP\",\"INFJ\",\"INFJ\",\"INFP\",\"INFJ\",\"ENFP\",\"ISFJ\",\"INFJ\",\"INTJ\",\"ENFP\",\"ISFP\",\"INTJ\",\"INFJ\",\"ISTP\",\"INFJ\",\"ENFP\",\"INFP\",\"ENTP\",\"ENTP\",\"INTJ\",\"INFJ\",\"INTJ\",\"ENTJ\",\"INFP\",\"INFP\",\"INFP\",\"ENFP\",\"ENTP\",\"INTJ\",\"INTJ\",\"INFJ\",\"ENTP\",\"INFJ\",\"INTP\",\"INFP\",\"INFJ\",\"INFP\",\"INTP\",\"ENFP\",\"INFJ\",\"INTJ\",\"INFP\",\"INTJ\",\"INTP\",\"ISFP\",\"ISTJ\",\"INTJ\",\"INFJ\",\"INFJ\",\"ISTP\",\"INTJ\",\"ENTP\",\"INFP\",\"INFP\",\"ISFP\",\"ENFP\",\"INTP\",\"INTP\",\"ESTP\",\"ESTP\",\"ISTJ\",\"INTP\",\"ISTP\",\"INTP\",\"INFP\",\"INTP\",\"INTP\",\"ENFP\",\"INTJ\",\"ISFP\",\"INFJ\",\"ISFJ\",\"INFP\",\"INFP\",\"ISFP\",\"ISTP\",\"INTJ\",\"INTP\",\"INFP\",\"INFP\",\"INFP\",\"ISFP\",\"INFJ\",\"INTJ\",\"INTP\",\"INFJ\",\"ENTJ\",\"INFJ\",\"INFJ\",\"ISFP\",\"INTJ\",\"ENTP\",\"INTJ\",\"ENFP\",\"INFP\",\"INFJ\",\"ISFP\",\"INTJ\",\"INFP\",\"ENFJ\",\"INFP\",\"INFP\",\"ENTJ\",\"ENFP\",\"INFP\",\"INFP\",\"INTP\",\"INFP\",\"INTP\",\"INTP\",\"ENTP\",\"INTJ\",\"ENFJ\",\"INFP\",\"INTP\",\"INFP\",\"INTJ\",\"ENTP\",\"INFP\",\"ENTP\",\"INFP\",\"ISFJ\",\"ISTP\",\"INTJ\",\"INTJ\",\"ENTP\",\"ENFP\",\"INTP\",\"ENFP\",\"INFJ\",\"INFP\",\"INFJ\",\"INFJ\",\"INFJ\",\"ENFP\",\"INTP\",\"INTP\",\"ENTP\",\"INFJ\",\"INFJ\",\"INFP\",\"INFJ\",\"INFP\",\"ENFJ\",\"INFP\",\"INFP\",\"INFJ\",\"INFJ\",\"ENFP\",\"INTP\",\"ENTP\",\"INTP\",\"INFJ\",\"INFJ\",\"INFP\",\"INTJ\",\"ENTP\",\"ENTP\",\"INTP\",\"ENFP\",\"ISTJ\",\"INFJ\",\"ISFJ\",\"INTJ\",\"INFJ\",\"INFP\",\"INFJ\",\"INTP\",\"INTP\",\"ISFP\",\"INFP\",\"ISTP\",\"INTJ\",\"INTP\",\"INTJ\",\"INTP\",\"INFP\",\"ISFP\",\"INFJ\",\"INFP\",\"INTP\",\"INFP\",\"ENFP\",\"INFP\",\"INTP\",\"INTP\",\"INFP\",\"INTP\",\"ENFP\",\"ENFP\",\"ENFP\",\"ISFP\",\"INTP\",\"INTP\",\"INFP\",\"INTP\",\"ISTP\",\"INFJ\",\"INFP\",\"ESFP\",\"INTP\",\"INFJ\",\"INTJ\",\"INFJ\",\"INTJ\",\"ISFP\",\"INTP\",\"ENFP\",\"ENTP\",\"INFP\",\"INFJ\",\"ISFP\",\"INFJ\",\"INFP\",\"INTP\",\"INFP\",\"ENFP\",\"ENFJ\",\"ENFP\",\"INTP\",\"ENFP\",\"INTJ\",\"INTJ\",\"INTJ\",\"ENTP\",\"ENTP\",\"INFP\",\"INFJ\",\"INFP\",\"ISFP\",\"INTP\",\"ISTJ\",\"INTP\",\"ENFP\",\"INTJ\",\"ENTP\",\"ENTJ\",\"INFJ\",\"INFP\",\"INFJ\",\"ENTP\",\"INTP\",\"INTJ\",\"ENTP\",\"ENTP\",\"INTJ\",\"INTJ\",\"INTJ\",\"ISFJ\",\"ISTJ\",\"ENTJ\",\"ENTJ\",\"ENFP\",\"INFJ\",\"INFP\",\"INFP\",\"INTP\",\"ENFP\",\"INFP\",\"INTP\",\"ISTP\",\"INTP\",\"ISFP\",\"INTJ\",\"INTJ\",\"INFP\",\"INFJ\",\"ISFP\",\"INTP\",\"INTJ\",\"ISTP\",\"INTP\",\"ENFP\",\"ENFJ\",\"INFJ\",\"INTP\",\"ISTP\",\"INTP\",\"ISTP\",\"INFP\",\"ENFP\",\"INFJ\",\"ENFJ\",\"INFP\",\"ISFP\",\"INFJ\",\"ISTP\",\"ENTP\",\"INFJ\",\"INTP\",\"INTP\",\"INFP\",\"INTJ\",\"ISFJ\",\"ENFP\",\"INTP\",\"ISTP\",\"ENTP\",\"INFJ\",\"INFP\",\"INTP\",\"ENTP\",\"INFP\",\"INFP\",\"INTJ\",\"INTJ\",\"ENTP\",\"INFP\",\"INFP\",\"INFP\",\"INFJ\",\"INFP\",\"ENFP\",\"ISFJ\",\"ENFP\",\"INTP\",\"INFP\",\"INTP\",\"INFP\",\"ENFP\",\"INTP\",\"INFP\",\"INTP\",\"INFJ\",\"ISTJ\",\"ENFP\",\"ENTP\",\"ENFP\",\"ENTP\",\"ENTP\",\"INFP\",\"ISFP\",\"INFP\",\"ISTP\",\"INTJ\",\"ENFJ\",\"INFJ\",\"INFJ\",\"ENTP\",\"INTJ\",\"ENTP\",\"INTP\",\"ENTP\",\"INTJ\",\"INFP\",\"ENFP\",\"INFP\",\"INFJ\",\"INFJ\",\"INFP\",\"ENTP\",\"INTJ\",\"INFP\",\"INFP\",\"INTP\",\"ENTJ\",\"INFP\",\"INFJ\",\"ENFP\",\"INTJ\",\"ISTP\",\"ISTJ\",\"INFP\",\"INTP\",\"INFP\",\"INTJ\",\"ISFJ\",\"INFJ\",\"ISTJ\",\"INFJ\",\"ENFP\",\"ENFP\",\"INFJ\",\"ENFP\",\"ENTP\",\"INTJ\",\"INFP\",\"INFP\",\"INFJ\",\"INTP\",\"ESFJ\",\"INTP\",\"ENFP\",\"INFP\",\"INTP\",\"INTP\",\"INTP\",\"INFJ\",\"INFP\",\"INTP\",\"INTJ\",\"INFP\",\"ISTJ\",\"INTP\",\"INFJ\",\"ESTP\",\"ISFP\",\"ISFJ\",\"ENTJ\",\"INFP\",\"INTJ\",\"INFJ\",\"INTJ\",\"INTJ\",\"INTJ\",\"INTJ\",\"ENTP\",\"ESFP\",\"INTJ\",\"INFJ\",\"ENFP\",\"INTP\",\"ENTP\",\"INTJ\",\"INTP\",\"INFP\",\"ENTP\",\"INFJ\",\"ENFP\",\"ENTP\",\"ENFP\",\"ISTP\",\"ESTP\",\"INFJ\",\"ENTP\",\"INTJ\",\"ISFJ\",\"INFP\",\"INFP\",\"INTP\",\"ISTP\",\"INFJ\",\"INFJ\",\"INTP\",\"INTP\",\"INFP\",\"INFP\",\"INFJ\",\"ISTP\",\"ISTJ\",\"ENTP\",\"INFP\",\"ENFP\",\"ISTJ\",\"ISTP\",\"ISTP\",\"INTP\",\"INTP\",\"INFJ\",\"INTJ\",\"ENTP\",\"ENFP\",\"INFP\",\"INTP\",\"ENTP\",\"INFJ\",\"INFJ\",\"INTJ\",\"INTJ\",\"ENTP\",\"INFP\",\"INFP\",\"INTP\",\"ENTP\",\"ENTJ\",\"ENFJ\",\"INFP\",\"INFJ\",\"ENTJ\",\"INFJ\",\"ENTP\",\"INTP\",\"INFJ\",\"ENFP\",\"INFJ\",\"INFJ\",\"ENFP\",\"ISTJ\",\"INFP\",\"INTJ\",\"ENFP\",\"INTJ\",\"ENTP\",\"INTP\",\"INFJ\",\"INTP\",\"INFJ\",\"ESFP\",\"INFJ\",\"ENFP\",\"INFJ\",\"ENTJ\",\"ISTP\",\"ENFJ\",\"INFP\",\"INFP\",\"INFP\",\"INTJ\",\"INTP\",\"INFP\",\"ISTJ\",\"ISTJ\",\"ISFP\",\"INFJ\",\"INTJ\",\"ENFP\",\"INTP\",\"INTP\",\"ENFP\",\"ENFJ\",\"ENTJ\",\"INTP\",\"INFP\",\"INTJ\",\"INTJ\",\"INFJ\",\"INFP\",\"INTJ\",\"INFP\",\"INTP\",\"INFP\",\"INTP\",\"INFJ\",\"INFP\",\"ENTP\",\"INFJ\",\"INFJ\",\"INTJ\",\"INTJ\",\"INFP\",\"INTP\",\"INTJ\",\"INTP\",\"ENFP\",\"INTJ\",\"ENFP\",\"ENFP\",\"INFP\",\"INFJ\",\"ENTJ\",\"ISFP\",\"INTP\",\"ENTJ\",\"ISFP\",\"INFP\",\"INFP\",\"INFJ\",\"INFJ\",\"INFP\",\"ENTJ\",\"INFP\",\"INFJ\",\"INTP\",\"ENTJ\",\"INFP\",\"ENFP\",\"INFP\",\"INTJ\",\"INFJ\",\"INFP\",\"INFP\",\"ISFP\",\"INFJ\",\"INFJ\",\"INTP\",\"INFP\",\"INFP\",\"ENTP\",\"ISTP\",\"ISTP\",\"ISFJ\",\"INFP\",\"INTP\",\"INFP\",\"INFJ\",\"INFP\",\"INFP\",\"ENTP\",\"INFJ\",\"INFJ\",\"INTP\",\"INFP\",\"ENTJ\",\"INFJ\",\"INTP\",\"INTJ\",\"INFP\",\"ISFP\",\"ISTP\",\"INFP\",\"ISFP\",\"INTP\",\"INTJ\",\"INTJ\",\"INFP\",\"ENFP\",\"INTP\",\"INFP\",\"ESTP\",\"ISTP\",\"INTJ\",\"INFP\",\"INFP\",\"INFP\",\"INFJ\",\"ENFJ\",\"ENTJ\",\"INTJ\",\"ENFP\",\"ISTP\",\"INFJ\",\"ISFP\",\"ISFP\",\"ESTP\",\"INFJ\",\"ENFJ\",\"INFP\",\"INFP\",\"ISTP\",\"ENTP\",\"INFJ\",\"INTJ\",\"INFP\",\"INFJ\",\"INTP\",\"INTP\",\"ENFP\",\"INFJ\",\"INTJ\",\"ENFP\",\"INFP\",\"INTJ\",\"ENTP\",\"INFP\",\"ENTP\",\"ISFJ\",\"ESFP\",\"INFP\",\"INFJ\",\"INFJ\",\"ENTJ\",\"INTJ\",\"INFP\",\"INFP\",\"INFP\",\"ISTP\",\"INFJ\",\"INTP\",\"ENTP\",\"ENFJ\",\"INTP\",\"ENTJ\",\"INFP\",\"INTP\",\"INTJ\",\"ISFP\",\"ENFP\",\"INFP\",\"ENFP\",\"INFP\",\"ENFJ\",\"INTP\",\"ISTP\",\"INFJ\",\"INTP\",\"ENFP\",\"INFP\",\"INFJ\",\"ISFP\",\"ENTJ\",\"INFP\",\"INTJ\",\"INFJ\",\"INFJ\",\"INTP\",\"INTJ\",\"INFJ\",\"INTP\",\"ENTP\",\"INTJ\",\"ISFP\",\"INTJ\",\"INFP\",\"INTJ\",\"ENFJ\",\"INFJ\",\"INTP\",\"INFP\",\"INFJ\",\"ENFJ\",\"INTP\",\"ENFP\",\"INTP\",\"INTJ\",\"INFJ\",\"INTJ\",\"INFP\",\"INTJ\",\"INTP\",\"ENTP\",\"ESTP\",\"INFP\",\"INFP\",\"ENTP\",\"INFP\",\"INFJ\",\"INTP\",\"ENFP\",\"INFJ\",\"ENTJ\",\"ENFP\",\"ENFJ\",\"INFP\",\"INTP\",\"INTP\",\"INFJ\",\"ISFP\",\"INFP\",\"INFP\",\"ENTP\",\"INFP\",\"INTP\",\"INFJ\",\"INFP\",\"INFP\",\"INTP\",\"INFJ\",\"INTJ\",\"INFJ\",\"INFP\",\"INFJ\",\"INFP\",\"ISTP\",\"INFJ\",\"INFJ\",\"ENFP\",\"INFP\",\"ENTP\",\"INFP\",\"INTJ\",\"ENFP\",\"INTJ\",\"ESTJ\",\"INFJ\",\"INFP\",\"ENFP\",\"ENFP\",\"ISFP\",\"ESTP\",\"INFJ\",\"ISTJ\",\"INFP\",\"INFP\",\"INTP\",\"INTP\",\"ENTP\",\"INFJ\",\"ENTP\",\"INTP\",\"ISTJ\",\"INTP\",\"INFP\",\"INFP\",\"ISTP\",\"INFP\",\"ISTJ\",\"INTJ\",\"ISTP\",\"INFP\",\"INFP\",\"ISFP\",\"ENTP\",\"INTJ\",\"INFP\",\"ESTJ\",\"INTP\",\"INTP\",\"INTJ\",\"INFP\",\"INFJ\",\"ISTJ\",\"ENTP\",\"ENFP\",\"INFJ\",\"INTJ\",\"INTP\",\"ESTJ\",\"INFP\",\"INFJ\",\"INFJ\",\"INFJ\",\"ISFP\",\"INTP\",\"INFP\",\"ISTP\",\"INTP\",\"INFP\",\"ENTP\",\"INTJ\",\"INFP\",\"INFJ\",\"INFJ\",\"INFP\",\"INFP\",\"INFP\",\"INFJ\",\"INTP\",\"INFJ\",\"ENTP\",\"ISTP\",\"INTP\",\"INTJ\",\"INFP\",\"INTP\",\"ISFJ\",\"INTP\",\"INFP\",\"ENFJ\",\"INTP\",\"INFP\",\"ISFJ\",\"ENTP\",\"INTJ\",\"ENTP\",\"INTJ\",\"INFP\",\"INFP\",\"INFJ\",\"INFJ\",\"INFJ\",\"ISTP\",\"INFJ\",\"INFJ\",\"INTJ\",\"INTP\",\"INFP\",\"INTJ\",\"ENTP\",\"ENTJ\",\"INTJ\",\"INFJ\",\"INTJ\",\"INTP\",\"INTJ\",\"ENFP\",\"INFP\",\"INTJ\",\"ISFP\",\"INTP\",\"INFJ\",\"INFJ\",\"INFP\",\"ENFJ\",\"ENFP\",\"ENFJ\",\"INFP\",\"INFJ\",\"ISTP\",\"INFP\",\"INFP\",\"INTP\",\"ISTJ\",\"INTP\",\"INFJ\",\"INFJ\",\"ENFP\",\"ENTJ\",\"INFP\",\"INTP\",\"ENFP\",\"INFJ\",\"INFJ\",\"ENTJ\",\"ENTJ\",\"ISTP\",\"INFJ\",\"INFP\",\"INFJ\",\"INTP\",\"INFP\",\"INTP\",\"ENFP\",\"INTP\",\"INTP\",\"ESTJ\",\"INTP\",\"INTJ\",\"ENTP\",\"INFP\",\"INFJ\",\"ENFP\",\"INFP\",\"ENTJ\",\"INFP\",\"ENTP\",\"INFP\",\"INTP\",\"INTJ\",\"INTP\",\"ENTP\",\"INFJ\",\"INFJ\",\"ENTP\",\"INFP\",\"ENFP\",\"INFP\",\"INTP\",\"ISTJ\",\"INFP\",\"INTJ\",\"INFP\",\"INFP\",\"ENFP\",\"INFP\",\"INFP\",\"INTJ\",\"INFP\",\"ENFJ\",\"INTP\",\"INTJ\",\"INTJ\",\"INTJ\",\"INFP\",\"ENTP\",\"INTJ\",\"INTJ\",\"INTP\",\"ENTJ\",\"ENFP\",\"INFJ\",\"INFP\",\"ENTJ\",\"ENFP\",\"ENTP\",\"INFP\",\"ENTJ\",\"INFP\",\"INTP\",\"ENTP\",\"ISTJ\",\"ENFJ\",\"ISTJ\",\"INTP\",\"ENTP\",\"INFJ\",\"INFJ\",\"ENFP\",\"INFP\",\"ENFP\",\"INFJ\",\"INTJ\",\"ENFP\",\"ESTP\",\"INTP\",\"INFP\",\"INFP\",\"ISTJ\",\"INTP\",\"ESTP\",\"INFP\",\"INFP\",\"INTJ\",\"INFP\",\"INFJ\",\"ESTJ\",\"ENTJ\",\"ENTP\",\"ESTJ\",\"ISTJ\",\"INFP\",\"ISTP\",\"ENTP\",\"ISFP\",\"ISTP\",\"ESTP\",\"INFJ\",\"INFP\",\"INFJ\",\"INFP\",\"INTJ\",\"INFJ\",\"INFP\",\"INFP\",\"INFP\",\"ISTJ\",\"INFJ\",\"ISFP\",\"INTP\",\"ENTP\",\"INFJ\",\"ENFJ\",\"INTP\",\"INFP\",\"INTJ\",\"INTP\",\"INFP\",\"INTJ\",\"INFP\",\"ENTP\",\"ENFP\",\"INFJ\",\"ENTP\",\"INFP\",\"ENTP\",\"INTJ\",\"ISTP\",\"INFJ\",\"ISTJ\",\"INTJ\",\"INTP\",\"ENTP\",\"ENFP\",\"ENFP\",\"ENTP\",\"INFP\",\"ENTP\",\"INTP\",\"INTJ\",\"INFP\",\"ENTJ\",\"INTP\",\"ESFP\",\"ENFJ\",\"INFJ\",\"INFJ\",\"INFP\",\"INFP\",\"INTP\",\"INFP\",\"INTP\",\"ENTP\",\"INFP\",\"INTP\",\"INFJ\",\"INFJ\",\"INFP\",\"INFJ\",\"INFJ\",\"ENFP\",\"ISFP\",\"ENFP\",\"ISTJ\",\"INFP\",\"ISTJ\",\"ENFJ\",\"INFJ\",\"ENTP\",\"INTP\",\"INFJ\",\"INFP\",\"INFJ\",\"ISFP\",\"INTP\",\"INTJ\",\"ENFP\",\"INFP\",\"INFP\",\"ENFP\",\"INTP\",\"INTP\",\"INFJ\",\"INFP\",\"INTP\",\"ENTJ\",\"INFJ\",\"INTJ\",\"INTJ\",\"ENFP\",\"INFJ\",\"INTJ\",\"ENTP\",\"ISFP\",\"ENTJ\",\"ISFJ\",\"ISTP\",\"ENTJ\",\"ENFP\",\"INTJ\",\"INFP\",\"ENFP\",\"INFJ\",\"ESTJ\",\"INFJ\",\"ENTP\",\"INTJ\",\"INFJ\",\"ENFJ\",\"INFP\",\"ENFP\",\"INFP\",\"INFP\",\"INFP\",\"ISTJ\",\"INTP\",\"INFJ\",\"INFJ\",\"INFJ\",\"ENTP\",\"INTJ\",\"ENTP\",\"INTP\",\"INFP\",\"INFJ\",\"INFP\",\"INFP\",\"ENFP\",\"INTJ\",\"ENFP\",\"INFP\",\"ENTJ\",\"ENFP\",\"INFJ\",\"INTJ\",\"INTJ\",\"ESTP\",\"INFJ\",\"ISFP\",\"ENFP\",\"ENFP\",\"ENFP\",\"ENTP\",\"INFP\",\"ENTP\",\"INFJ\",\"ENFP\",\"INTJ\",\"INFP\",\"INFP\",\"INFJ\",\"INFP\",\"INTJ\",\"INTJ\",\"ENTP\",\"ISTP\",\"INFP\",\"INFJ\",\"ENFP\",\"ENFP\",\"INFP\",\"ENTP\",\"INTP\",\"ISFJ\",\"INTP\",\"INFJ\",\"INFJ\",\"ESTP\",\"INTP\",\"ENTP\",\"INTP\",\"INTP\",\"INFJ\",\"ENTP\",\"INFJ\",\"ISTJ\",\"ENTJ\",\"ISFP\",\"ENTP\",\"INFP\",\"ENFP\",\"INFJ\",\"INTJ\",\"INTJ\",\"INTP\",\"ENTP\",\"INFJ\",\"INTP\",\"ENTJ\",\"INTJ\",\"INTP\",\"INFP\",\"ISFJ\",\"ISFP\",\"INTJ\",\"INFP\",\"INFJ\",\"INTP\",\"ISTP\",\"ENTP\",\"INFP\",\"ISFP\",\"ENTJ\",\"ISTP\",\"INFP\",\"ENFP\",\"INTJ\",\"INFP\",\"INFP\",\"INFP\",\"INTP\",\"ISTP\",\"INFJ\",\"INFP\",\"INFJ\",\"INFP\",\"ISTP\",\"INTP\",\"INFJ\",\"INTP\",\"ENFJ\",\"INFP\",\"ENTP\",\"ISTJ\",\"INTP\",\"INFJ\",\"INTJ\",\"INTP\",\"INTP\",\"INTJ\",\"INTP\",\"ENTP\",\"INTP\",\"INFJ\",\"ENFJ\",\"INTP\",\"ENFP\",\"ISTP\",\"INTP\",\"INTJ\",\"INFJ\",\"ENFP\",\"ENTP\",\"INFP\",\"ENFP\",\"INFJ\",\"INFJ\",\"INFP\",\"ENTJ\",\"ENTJ\",\"INTJ\",\"INTJ\",\"INTP\",\"ISTP\",\"INFP\",\"ENTP\",\"ISTP\",\"ISFP\",\"INFJ\",\"ENTP\",\"INTP\",\"INTJ\",\"ENFP\",\"INFP\",\"INTP\",\"INFP\",\"INFP\",\"ISTJ\",\"INTJ\",\"INFP\",\"INTJ\",\"INFP\",\"ESTP\",\"INFJ\",\"INFJ\",\"ENFP\",\"INFJ\",\"INFJ\",\"INTJ\",\"INFJ\",\"ISFP\",\"INTJ\",\"ENTP\",\"INTJ\",\"ISFJ\",\"INFJ\",\"INFP\",\"INFJ\",\"INFP\",\"INFP\",\"INTJ\",\"INFJ\",\"INTP\",\"ENTP\",\"ENTP\",\"ENTP\",\"ISTP\",\"INFJ\",\"ENFP\",\"INFP\",\"INFP\",\"INFP\",\"ISTJ\",\"ISTP\",\"INFJ\",\"ISFP\",\"ENFP\",\"INFJ\",\"INTP\",\"INFP\",\"ISTP\",\"INFP\",\"ENTP\",\"INFJ\",\"ENFP\",\"INFJ\",\"ENFP\",\"INFP\",\"INTP\",\"INFP\",\"ENTP\",\"INFP\",\"ISTP\",\"ENTP\",\"ENTJ\",\"INFP\",\"INFJ\",\"INFJ\",\"INFP\",\"ISTJ\",\"ENFP\",\"INTJ\",\"ENFJ\",\"ENFP\",\"INFJ\",\"INTJ\",\"INFJ\",\"INFP\",\"ENTJ\",\"INFP\",\"INTP\",\"INTJ\",\"INFJ\",\"ENTP\",\"INTP\",\"INTJ\",\"ISTP\",\"INTP\",\"INFP\",\"ISFJ\",\"INFP\",\"INFJ\",\"INTJ\",\"INTP\",\"INTJ\",\"INTJ\",\"INFJ\",\"INFP\",\"INFP\",\"INFJ\",\"INTJ\",\"ENTJ\",\"INFP\",\"INTP\",\"INTJ\",\"INTJ\",\"INTJ\",\"INTJ\",\"INFJ\",\"INTP\",\"INTP\",\"INFP\",\"INFJ\",\"INFP\",\"INTJ\",\"INFJ\",\"INTP\",\"ENFJ\",\"INFP\",\"ISTP\",\"INFP\",\"INTP\",\"ISFJ\",\"INTJ\",\"ENFP\",\"ENTJ\",\"INFJ\",\"ENTP\",\"INTP\",\"INFP\",\"INTJ\",\"INFJ\",\"INFP\",\"ISFP\",\"INTP\",\"INTJ\",\"ISFP\",\"INFJ\",\"INFP\",\"INFP\",\"ENTP\",\"INFP\",\"INFP\",\"INFP\",\"INTP\",\"ISTJ\",\"INTP\",\"ISTP\",\"INTP\",\"ENFP\",\"ISTJ\",\"ISTJ\",\"INFP\",\"ENTP\",\"INFP\",\"INFP\",\"INFP\",\"INFJ\",\"INTJ\",\"INTJ\",\"INTP\",\"INFJ\",\"ISFP\",\"INFP\",\"INTJ\",\"INFJ\",\"INFP\",\"INFJ\",\"INFP\",\"INFJ\",\"ENTJ\",\"INFP\",\"INFP\",\"INFJ\",\"ENTP\",\"ENTP\",\"INTP\",\"ISFP\",\"INTP\",\"INTP\",\"ENFP\",\"INFP\",\"ENFJ\",\"ENFP\",\"INFJ\",\"INTP\",\"ENTP\",\"ENTP\",\"INTP\",\"ISTP\",\"ENTP\",\"INFJ\",\"INFP\",\"ISFJ\",\"INFJ\",\"ENTP\",\"INTP\",\"ENTJ\",\"INFJ\",\"INFJ\",\"ENTP\",\"ISTJ\",\"INFP\",\"INFP\",\"INFJ\",\"ISTJ\",\"INFP\",\"INFP\",\"INTP\",\"INFP\",\"ISFJ\",\"ISFP\",\"INTJ\",\"INTP\",\"ENFP\",\"INTJ\",\"INTJ\",\"ISTP\",\"ENFP\",\"ENTP\",\"INFJ\",\"INFP\",\"ENTP\",\"INTJ\",\"INTP\",\"ENFJ\",\"INFJ\",\"INTJ\",\"ENFJ\",\"ENFJ\",\"INTJ\",\"ENTP\",\"ISFJ\",\"INFJ\",\"INFJ\",\"ESTP\",\"ENTJ\",\"INFJ\",\"INTJ\",\"INFP\",\"ISTJ\",\"ISTJ\",\"INTP\",\"INFP\",\"INTJ\",\"ISTP\",\"ISTJ\",\"ENTJ\",\"INTP\",\"ENFJ\",\"INFP\",\"ENFP\",\"INFJ\",\"INFP\",\"ENTJ\",\"INFP\",\"ISFJ\",\"INTP\",\"ENFP\",\"INFJ\",\"ENTP\",\"ISFJ\",\"ISFP\",\"INTJ\",\"ENTP\",\"INFJ\",\"INFP\",\"INFP\",\"INFJ\",\"INTP\",\"ENFP\",\"INFP\",\"ISFP\",\"INFP\",\"INFP\",\"INTP\",\"INFP\",\"INFJ\",\"INTP\",\"INTJ\",\"INFJ\",\"INFP\",\"ESFJ\",\"ISTP\",\"ENFP\",\"ENTJ\",\"INFP\",\"INFJ\",\"INFP\",\"INFJ\",\"INTJ\",\"INTJ\",\"INFP\",\"INFJ\",\"ENFJ\",\"INFP\",\"INTP\",\"ENTP\",\"INTP\",\"ENFP\",\"INTP\",\"INTJ\",\"INFJ\",\"INFJ\",\"ENFP\",\"INTP\",\"INFP\",\"ENFP\",\"INFP\",\"INFJ\",\"INFJ\",\"INTP\",\"INFP\",\"ENTJ\",\"ENTP\",\"ISFP\",\"ENFP\",\"ISFP\",\"ENTP\",\"ISTP\",\"ENFP\",\"INFP\",\"ENFP\",\"INFP\",\"INFP\",\"INTJ\",\"INFJ\",\"INFP\",\"ESTJ\",\"ENTP\",\"ISTP\",\"INFP\",\"ISFJ\",\"ENTP\",\"INFP\",\"INFJ\",\"INFP\",\"INFP\",\"INFJ\",\"ENTP\",\"INTP\",\"INTP\",\"INTJ\",\"INFP\",\"ESFJ\",\"INFJ\",\"INTP\",\"ISFP\",\"ESTP\",\"INFJ\",\"INFJ\",\"INFJ\",\"INTJ\",\"INFJ\",\"INFJ\",\"ISTP\",\"INTP\",\"INFJ\",\"INFJ\",\"INTJ\",\"INTJ\",\"INTP\",\"INFJ\",\"INFP\",\"INFJ\",\"ENTJ\",\"INTP\",\"ISTP\",\"INTP\",\"INTJ\",\"INFP\",\"ENFP\",\"ENTP\",\"INTJ\",\"INFP\",\"INTP\",\"INFP\",\"ENTP\",\"INFP\",\"INFJ\",\"INFP\",\"INFJ\",\"ISFP\",\"INTP\",\"INFP\",\"INTJ\",\"ENFP\",\"ENFP\",\"INFP\",\"ENFJ\",\"INFP\",\"ISFP\",\"INFP\",\"INTJ\",\"INFP\",\"ENFP\",\"INTJ\",\"INFP\",\"ENTP\",\"ISFJ\",\"INFP\",\"ISFJ\",\"INTJ\",\"INFJ\",\"INTP\",\"INTJ\",\"ISFJ\",\"INTP\",\"INFP\",\"ISTP\",\"ENFP\",\"INFP\",\"INTJ\",\"INFJ\",\"INTJ\",\"ENFP\",\"INTP\",\"INTJ\",\"INTJ\",\"ENFJ\",\"INFJ\",\"ENTP\",\"INFJ\",\"INFP\",\"INFP\",\"INFP\",\"ENFP\",\"INFJ\",\"INTJ\",\"ENTP\",\"ISTP\",\"ENTJ\",\"INTJ\",\"INTJ\",\"ENFP\",\"INFJ\",\"INTJ\",\"INFP\",\"ENTP\",\"INFP\",\"ESTJ\",\"INFJ\",\"INTJ\",\"ENTJ\",\"ENFP\",\"ENTJ\",\"ENFJ\",\"INTJ\",\"INFP\",\"ENTJ\",\"INFP\",\"INFP\",\"ENFP\",\"INFJ\",\"INFJ\",\"INFP\",\"ISTP\",\"INFP\",\"ENFP\",\"ENTP\",\"INFP\",\"ENTJ\",\"INTP\",\"INTP\",\"INFJ\",\"ENTP\",\"INFP\",\"ISFJ\",\"INFJ\",\"INFP\",\"ENTJ\",\"INFJ\",\"INFJ\",\"INTJ\",\"INFP\",\"INTP\",\"INTP\",\"INTJ\",\"INTP\",\"INFP\",\"ENFP\",\"ENTP\",\"ENTJ\",\"INTP\",\"INFJ\",\"INFJ\",\"ENFP\",\"ESTP\",\"INFP\",\"INTP\",\"INFJ\",\"INFP\",\"ENTJ\",\"ENTJ\",\"INTP\",\"INFP\",\"ENFP\",\"INFP\",\"INFJ\",\"INFJ\",\"INTJ\",\"ENFP\",\"INTP\",\"INTP\",\"INFP\",\"ISFJ\",\"INFP\",\"INTP\",\"INTP\",\"ENFP\",\"ENFP\",\"INFP\",\"ENTJ\",\"INFJ\",\"ENTP\",\"INTP\",\"INTP\",\"ENFP\",\"INFP\",\"ISFJ\",\"INTP\",\"INFP\",\"ISFP\",\"INFP\",\"ENTP\",\"ENTP\",\"ENTP\",\"INTP\",\"INTJ\",\"ENFP\",\"ENFP\",\"ENFP\",\"INFJ\",\"INFJ\",\"INTP\",\"ENTP\",\"ENFP\",\"INTP\",\"INFP\",\"ENFP\",\"INFJ\",\"INFP\",\"INFJ\",\"ISFP\",\"INTJ\",\"INTP\",\"INFJ\",\"ENTJ\",\"ESTP\",\"ENFJ\",\"INTP\",\"INFP\",\"ISFP\",\"INTP\",\"INFP\",\"INFP\",\"ENFP\",\"INFP\",\"INFJ\",\"ISTJ\",\"INTP\",\"INTP\",\"ENTP\",\"ISFJ\",\"INFJ\",\"ESTP\",\"INTJ\",\"INTP\",\"INTJ\",\"INFJ\",\"ENFP\",\"INFP\",\"INFJ\",\"INTP\",\"INFJ\",\"ISFP\",\"INFP\",\"INFJ\",\"ISTP\",\"INFP\",\"ISTP\",\"INTJ\",\"INFP\",\"INFJ\",\"ISTP\",\"INFP\",\"ENFP\",\"INFP\",\"INFJ\",\"INFJ\",\"INFJ\",\"ISTJ\",\"INTP\",\"ISFP\",\"INTJ\",\"INTJ\",\"ISTP\",\"INFJ\",\"INTJ\",\"INTJ\",\"INTJ\",\"INFJ\",\"ENFP\",\"INTJ\",\"INTJ\",\"ISTP\",\"ENTP\",\"INFP\",\"ESFP\",\"INTP\",\"ISFJ\",\"INTP\",\"INTP\",\"ENTJ\",\"ENFP\",\"INTP\",\"ENFP\",\"INTP\",\"ISFP\",\"ENTP\",\"INTJ\",\"INFJ\",\"INTP\",\"INFJ\",\"INFJ\",\"INTP\",\"INTJ\",\"INTP\",\"INFJ\",\"INFP\",\"ISTJ\",\"INTJ\",\"INFJ\",\"ENTP\",\"INFP\",\"INFJ\",\"INTJ\",\"INTJ\",\"ENTP\",\"INFJ\",\"ENTJ\",\"INTP\",\"ISFP\",\"INTP\",\"INFJ\",\"ESTP\",\"INTP\",\"ENFJ\",\"ISFP\",\"ENTP\",\"INTP\",\"ISFJ\",\"ISTP\",\"ENTP\",\"INFJ\",\"INFP\",\"ISTJ\",\"INFP\",\"INFP\",\"INTJ\",\"INTJ\",\"ENTP\",\"ENFP\",\"ENTJ\",\"ISTP\",\"INFP\",\"ISTP\",\"ISFP\",\"ENFP\",\"INFJ\",\"ENFP\",\"INFP\",\"INFP\",\"ENTJ\",\"INFJ\",\"ENTP\",\"INFJ\",\"INFP\",\"ENFP\",\"ENTP\",\"INTP\",\"INTJ\",\"INFP\",\"ISTP\",\"ISTP\",\"INTJ\",\"INFJ\",\"ISFP\",\"ENTP\",\"INFP\",\"ESTP\",\"INFJ\",\"INTP\",\"ENTP\",\"INTJ\",\"INFJ\",\"INFP\",\"INFP\",\"INFP\",\"INTP\",\"INTP\",\"INFP\",\"INFJ\",\"ISFP\",\"INFP\",\"INTP\",\"INTP\",\"INTP\",\"ENFJ\",\"ENTP\",\"INFP\",\"ENFP\",\"ENTP\",\"INFJ\",\"INFP\",\"INFJ\",\"INTJ\",\"INTJ\",\"ISTP\",\"INTP\",\"INFP\",\"INFP\",\"INFJ\",\"ISFP\",\"INTJ\",\"INTJ\",\"INFP\",\"INTP\",\"ENTP\",\"INFP\",\"INFJ\",\"INTP\",\"INTP\",\"INFP\",\"INFJ\",\"INFP\",\"ESFP\",\"ISTP\",\"INFP\",\"ISTP\",\"ENFP\",\"ISFP\",\"INFJ\",\"ENTP\",\"ENTP\",\"INFJ\",\"INFJ\",\"INFP\",\"ENFP\",\"INFJ\",\"ENTP\",\"INTP\",\"INTP\",\"ENTP\",\"INFP\",\"ISFP\",\"INTJ\",\"INFP\",\"INTP\",\"ESFJ\",\"INTJ\",\"INFP\",\"ENFP\",\"INFJ\",\"INTJ\",\"INTJ\",\"INFP\",\"ENFP\",\"INFP\",\"ENFJ\",\"INFP\",\"INTP\",\"INTJ\",\"INFJ\",\"ISFJ\",\"INFP\",\"ENFJ\",\"INTP\",\"ENTP\",\"INFJ\",\"INFP\",\"INFP\",\"INTJ\",\"ENTJ\",\"INFP\",\"INTP\",\"INFP\",\"ENTP\",\"INFP\",\"INFP\",\"INTP\",\"INTP\",\"INFJ\",\"ENFJ\",\"INFP\",\"INFP\",\"INFJ\",\"ENFP\",\"INTP\",\"INFP\",\"ISFJ\",\"INTJ\",\"INFP\",\"INFP\",\"INFP\",\"INFJ\",\"ESTJ\",\"ISTP\",\"INFP\",\"INTJ\",\"ENTP\",\"ISTJ\",\"INTP\",\"INFP\",\"ENTP\",\"ENTP\",\"INFP\",\"INFP\",\"INTJ\",\"INTJ\",\"INFP\",\"INFP\",\"INFP\",\"INTP\",\"INFP\",\"INFP\",\"INFJ\",\"INFP\",\"INFJ\",\"INFP\",\"ENFP\",\"ESTP\",\"INFP\",\"INTP\",\"ENFP\",\"ESTP\",\"INTJ\",\"INTP\",\"INFJ\",\"ENFJ\",\"ENFP\",\"INFJ\",\"INFP\",\"INFP\",\"ENTP\",\"INTP\",\"INFJ\",\"ESTP\",\"INFP\",\"ENTJ\",\"ENTP\",\"ISFP\",\"INTJ\",\"ENTP\",\"INTJ\",\"INTJ\",\"ENTP\",\"INFP\",\"INFJ\",\"INTJ\",\"INFJ\",\"ENFJ\",\"INTJ\",\"INFJ\",\"INFP\",\"INTP\",\"INFJ\",\"INFP\",\"INTP\",\"INTP\",\"INTJ\",\"INFP\",\"INFJ\",\"ENFP\",\"INTJ\",\"ENFP\",\"INFJ\",\"ESTP\",\"INFJ\",\"INTP\",\"INFJ\",\"INFP\",\"INTP\",\"INFP\",\"ENTP\",\"ENFP\",\"INFJ\",\"INFP\",\"ISTP\",\"INTJ\",\"INFJ\",\"ESTP\",\"INTJ\",\"INTP\",\"ESFJ\",\"INTP\",\"ENTP\",\"INFJ\",\"INFJ\",\"INFJ\",\"INFP\",\"INFP\",\"INFP\",\"INTJ\",\"ENFP\",\"ENFP\",\"INTP\",\"INTP\",\"ISTP\",\"ENTP\",\"ISFJ\",\"INFJ\",\"INFJ\",\"INFJ\",\"INFP\",\"INTP\",\"INTJ\",\"INTP\",\"INTJ\",\"INFP\",\"INFJ\",\"INFJ\",\"INTP\",\"INFP\",\"ENTP\",\"INTP\",\"INFP\",\"INFP\",\"INTJ\",\"INFP\",\"INTJ\",\"INTJ\",\"INFJ\",\"ENTP\",\"INTP\",\"INTP\",\"INTJ\",\"INFJ\",\"ISFJ\",\"INFP\",\"INTJ\",\"ISTJ\",\"INFP\",\"ENTP\",\"ENTP\",\"ISTP\",\"INFJ\",\"ISTP\",\"ISTJ\",\"INFP\",\"INTJ\",\"INTJ\",\"INFJ\",\"INFP\",\"ENFP\",\"INTP\",\"INFJ\",\"INTP\",\"INTP\",\"ISTJ\",\"INTP\",\"INTJ\",\"INFJ\",\"ENFJ\",\"INTJ\",\"ENFJ\",\"INTJ\",\"ISTP\",\"INFJ\",\"INTJ\",\"ENFP\",\"INFJ\",\"ISFJ\",\"INTJ\",\"INTP\",\"ENTP\",\"INFP\",\"INFJ\",\"INTJ\",\"INTP\",\"ISFP\",\"ENFJ\",\"INFJ\",\"ENFP\",\"ENTP\",\"INTJ\",\"INFP\",\"ENFP\",\"INFJ\",\"INTP\",\"INTJ\",\"ENTP\",\"INTJ\",\"INTJ\",\"INFJ\",\"ENTP\",\"ISFP\",\"INFP\",\"INTJ\",\"INFP\",\"INFP\",\"INTP\",\"INTP\",\"INTP\",\"ENFP\",\"ESTP\",\"INTJ\",\"ENTP\",\"INTJ\",\"INFJ\",\"ENTP\",\"INFP\",\"INTJ\",\"ENFP\",\"INTP\",\"INTP\",\"INFP\",\"ISTP\",\"INFP\",\"INTP\",\"INFJ\",\"INFJ\",\"INTP\",\"INTP\",\"ESTJ\",\"INTP\",\"INFJ\",\"INTP\",\"ENFP\",\"ENFP\",\"ISFP\",\"INTJ\",\"ISTP\",\"INTP\",\"INTP\",\"ESTJ\",\"ISFP\",\"ENTP\",\"ISFP\",\"INFP\",\"INFP\",\"ENTP\",\"INFP\",\"ENTP\",\"INFP\",\"ENFJ\",\"ISFJ\",\"INFP\",\"INTP\",\"ENTP\",\"INTP\",\"ISTP\",\"ENFP\",\"INTP\",\"INFP\",\"INFP\",\"INTP\",\"ESTP\",\"ENTJ\",\"INFJ\",\"INFJ\",\"INTP\",\"INTP\",\"INTP\",\"INTJ\",\"ENTP\",\"INTP\",\"INFP\",\"INFP\",\"INFJ\",\"ENTP\",\"ENFP\",\"INTJ\",\"INTP\",\"ENTJ\",\"INTP\",\"INTP\",\"INTP\",\"INTJ\",\"ENFP\",\"INFP\",\"ISTJ\",\"INFJ\",\"INTJ\",\"ENTP\",\"INFP\",\"ENFP\",\"INFP\",\"ENFP\",\"INTP\",\"INFP\",\"INFJ\",\"ISFJ\",\"ENFP\",\"ENFP\",\"ISFJ\",\"INFJ\",\"ENTP\",\"INTJ\",\"INFP\",\"INFJ\",\"ISTJ\",\"INTP\",\"INFJ\",\"INFJ\",\"INTJ\",\"ENFP\",\"INTP\",\"INFP\",\"ISFP\",\"INFJ\",\"INFP\",\"INFP\",\"INFJ\",\"INTJ\",\"INFP\",\"INFP\",\"INTP\",\"INTP\",\"ENFP\",\"ENFP\",\"INTP\",\"INTP\",\"INFP\",\"ISTJ\",\"INFP\",\"INFJ\",\"INFJ\",\"INFJ\",\"ESTJ\",\"ENFJ\",\"INFJ\",\"INTP\",\"INFJ\",\"INFP\",\"INFJ\",\"INTJ\",\"ENTP\",\"ISFP\",\"INFJ\",\"INTJ\",\"INFP\",\"ENFP\",\"INFJ\",\"ENFP\",\"ISFJ\",\"INFP\",\"ESTP\",\"ISFP\",\"INTJ\",\"ENTJ\",\"INFP\",\"INTP\",\"INFP\",\"INFJ\",\"INFP\",\"INTJ\",\"INTP\",\"INTP\",\"INTP\",\"INTP\",\"ENFJ\",\"INTJ\",\"ENTP\",\"INTP\",\"INFP\",\"INFJ\",\"ISTP\",\"INTJ\",\"INFP\",\"ENTP\",\"INFP\",\"ENTP\",\"ENFP\",\"ISFJ\",\"INTJ\",\"INFJ\",\"INTJ\",\"INFJ\",\"INTJ\",\"ISFJ\",\"INFJ\",\"ENTJ\",\"ENTP\",\"ISTJ\",\"INFP\",\"ENFP\",\"ENTP\",\"ISTP\",\"INFJ\",\"ENFP\",\"ENFP\",\"INTP\",\"INFP\",\"ENTP\",\"INTP\",\"INFP\",\"ENFJ\",\"INFP\",\"INTJ\",\"INTP\",\"INTJ\",\"ISTJ\",\"INFJ\",\"ESTJ\",\"INTJ\",\"ENTP\",\"INTP\",\"INTJ\",\"INFP\",\"INFP\",\"INFP\",\"ENTP\",\"ESTP\",\"INFP\",\"INTP\",\"ISFJ\",\"INFP\",\"INTJ\",\"INFJ\",\"ENTP\",\"INTP\",\"INTP\",\"ESTP\",\"INFJ\",\"ISTP\",\"INFJ\",\"INFJ\",\"INFP\",\"INTP\",\"INFJ\",\"INFP\",\"INTJ\",\"ENTP\",\"ISFP\",\"INFP\",\"INTP\",\"INTJ\",\"ISFP\",\"ENFP\",\"INTP\",\"INTJ\",\"INTJ\",\"ENTJ\",\"INFJ\",\"INFJ\",\"INTJ\",\"INTP\",\"INFJ\",\"ISTJ\",\"INFJ\",\"ISFJ\",\"INTP\",\"INFJ\",\"ISTP\",\"ENFP\",\"INFP\",\"ISFP\",\"INFP\",\"INFP\",\"INFJ\",\"INTJ\",\"INFJ\",\"ENFP\",\"INFP\",\"ENTJ\",\"INFP\",\"INFP\",\"INTP\",\"INFJ\",\"INFJ\",\"INTJ\",\"INFP\",\"INTJ\",\"INFJ\",\"INFP\",\"ISFP\",\"ISTJ\",\"INTJ\",\"INFP\",\"INTP\",\"INTJ\",\"INTP\",\"INFJ\",\"INTP\",\"INTJ\",\"ISTP\",\"INFP\",\"ISTP\",\"ISFP\",\"ENTP\",\"ENFP\",\"INFP\",\"ISFJ\",\"INTP\",\"INTP\",\"ENFP\",\"ENFP\",\"INTP\",\"ENTP\",\"INFJ\",\"INFP\",\"ENTP\",\"ISTP\",\"INFP\",\"INFJ\",\"INFJ\",\"INFP\",\"ISFJ\",\"INTP\",\"INFJ\",\"ENFP\",\"INTP\",\"ENTJ\",\"ENFJ\",\"INTJ\",\"ISTP\",\"INFP\",\"INTP\",\"ENFJ\",\"INFJ\",\"ENFP\",\"INTP\",\"INTJ\",\"ENFP\",\"ENTP\",\"INFJ\",\"INFJ\",\"INFP\",\"INFP\",\"INTP\",\"ENFP\",\"ISFJ\",\"ISTJ\",\"INFP\",\"INFP\",\"INTJ\",\"ENTP\",\"INTJ\",\"INTP\",\"ENTJ\",\"INFP\",\"INTP\",\"INTJ\",\"INTJ\",\"INTJ\",\"INFJ\",\"ENTP\",\"ISTP\",\"ISTP\",\"INTP\",\"INFP\",\"INFP\",\"ENTP\",\"ISTP\",\"INFJ\",\"INTP\",\"INFJ\",\"INTP\",\"ENFP\",\"INTP\",\"INFJ\",\"ESTP\",\"INFP\",\"INFJ\",\"INFP\",\"INFP\",\"INTJ\",\"INFP\",\"ENTJ\",\"INFP\",\"ENFP\",\"ENTP\",\"INTJ\",\"INFP\",\"INTJ\",\"INTJ\",\"INFJ\",\"INFJ\",\"INTP\",\"INTJ\",\"INFP\",\"INFP\",\"INFP\",\"INTJ\",\"ESFJ\",\"INTJ\",\"ENFP\",\"INTJ\",\"INFP\",\"INTJ\",\"INFJ\",\"ENTJ\",\"ISFP\",\"ISTP\",\"INFJ\",\"ENTP\",\"INFP\",\"INFP\",\"INTJ\",\"ENTP\",\"ENTP\",\"ENFP\",\"INTP\",\"INFP\",\"INTP\",\"ENFP\",\"INFP\",\"INFP\",\"INFJ\",\"INTJ\",\"INFJ\",\"INFJ\",\"INFP\",\"INFJ\",\"INTP\",\"INFP\",\"INTP\",\"ENTP\",\"INTJ\",\"INFP\",\"INTP\",\"ENTP\",\"INTJ\",\"ENTJ\",\"ISFP\",\"INTP\",\"ENFP\",\"ENTP\",\"ISFP\",\"INFP\",\"ESTP\",\"ISFP\",\"ENFP\",\"ISTP\",\"ENFP\",\"ENTP\",\"ENTP\",\"ISTJ\",\"INFJ\",\"INFJ\",\"INTP\",\"INFP\",\"ISTP\",\"INFJ\",\"ISTP\",\"ENFP\",\"ISFP\",\"INTP\",\"INTP\",\"INTJ\",\"ENFP\",\"INFP\",\"ENTJ\",\"INFJ\",\"INFJ\",\"INFP\",\"ENTJ\",\"ENTP\",\"ISFP\",\"INTP\",\"INTJ\",\"ENTP\",\"INTP\",\"INTJ\",\"INFP\",\"INFP\",\"INFJ\",\"INFJ\",\"INTJ\",\"ISFJ\",\"INFP\",\"INFJ\",\"ENFP\",\"ENFP\",\"INFP\",\"INTP\",\"ENTP\",\"ENFP\",\"ENFP\",\"INFJ\",\"ISTP\",\"ENFJ\",\"INFJ\",\"INTP\",\"INTP\",\"ENFP\",\"ENTP\",\"ISTP\",\"INFP\",\"INTP\",\"INTP\",\"INFJ\",\"ISTP\",\"ENFP\",\"ISFP\",\"INTP\",\"INFP\",\"INFP\",\"INTP\",\"INTJ\",\"INTJ\",\"ENFP\",\"INTP\",\"INFP\",\"ENFP\",\"INTP\",\"INFJ\",\"ENTP\",\"INFP\",\"INFJ\",\"INTJ\",\"INFJ\",\"INFP\",\"ISFJ\",\"INTJ\",\"INFJ\",\"INTP\",\"ISFP\",\"ISTP\",\"INFP\",\"INTP\",\"ENTP\",\"INTJ\",\"ESFP\",\"INTP\",\"INTP\",\"INFP\",\"INFJ\",\"ENFJ\",\"INTP\",\"INFP\",\"INFP\",\"INTJ\",\"INTP\",\"ENFP\",\"INFJ\",\"ENTP\",\"INTJ\",\"INFP\",\"INFP\",\"ESTP\",\"ISTP\",\"ENFP\",\"INFP\",\"INTP\",\"ISTP\",\"ESTP\",\"INTJ\",\"INFP\",\"INFJ\",\"INFJ\",\"INFJ\",\"ISFP\",\"INTP\",\"INTP\",\"ISFJ\",\"INTJ\",\"ISTP\",\"ENTP\",\"INFJ\",\"ENTP\",\"INTJ\",\"INFJ\",\"ISTP\",\"INTJ\",\"INFP\",\"INTJ\",\"ISTJ\",\"INFJ\",\"INTP\",\"INFP\",\"ISFJ\",\"INFJ\",\"INFP\",\"INFJ\",\"INFJ\",\"INFP\",\"INTJ\",\"INFP\",\"INFJ\",\"INFJ\",\"ISTP\",\"INFJ\",\"INFP\",\"INTP\",\"INTJ\",\"INFP\",\"INFP\",\"INFJ\",\"INFP\",\"ISTP\",\"ISTP\",\"ISTP\",\"INFP\",\"INTJ\",\"INFJ\",\"INFP\"],\"legendgroup\":\"\",\"name\":\"\",\"showlegend\":true,\"type\":\"pie\"}],                        {\"template\":{\"data\":{\"bar\":[{\"error_x\":{\"color\":\"#2a3f5f\"},\"error_y\":{\"color\":\"#2a3f5f\"},\"marker\":{\"line\":{\"color\":\"#E5ECF6\",\"width\":0.5},\"pattern\":{\"fillmode\":\"overlay\",\"size\":10,\"solidity\":0.2}},\"type\":\"bar\"}],\"barpolar\":[{\"marker\":{\"line\":{\"color\":\"#E5ECF6\",\"width\":0.5},\"pattern\":{\"fillmode\":\"overlay\",\"size\":10,\"solidity\":0.2}},\"type\":\"barpolar\"}],\"carpet\":[{\"aaxis\":{\"endlinecolor\":\"#2a3f5f\",\"gridcolor\":\"white\",\"linecolor\":\"white\",\"minorgridcolor\":\"white\",\"startlinecolor\":\"#2a3f5f\"},\"baxis\":{\"endlinecolor\":\"#2a3f5f\",\"gridcolor\":\"white\",\"linecolor\":\"white\",\"minorgridcolor\":\"white\",\"startlinecolor\":\"#2a3f5f\"},\"type\":\"carpet\"}],\"choropleth\":[{\"colorbar\":{\"outlinewidth\":0,\"ticks\":\"\"},\"type\":\"choropleth\"}],\"contour\":[{\"colorbar\":{\"outlinewidth\":0,\"ticks\":\"\"},\"colorscale\":[[0.0,\"#0d0887\"],[0.1111111111111111,\"#46039f\"],[0.2222222222222222,\"#7201a8\"],[0.3333333333333333,\"#9c179e\"],[0.4444444444444444,\"#bd3786\"],[0.5555555555555556,\"#d8576b\"],[0.6666666666666666,\"#ed7953\"],[0.7777777777777778,\"#fb9f3a\"],[0.8888888888888888,\"#fdca26\"],[1.0,\"#f0f921\"]],\"type\":\"contour\"}],\"contourcarpet\":[{\"colorbar\":{\"outlinewidth\":0,\"ticks\":\"\"},\"type\":\"contourcarpet\"}],\"heatmap\":[{\"colorbar\":{\"outlinewidth\":0,\"ticks\":\"\"},\"colorscale\":[[0.0,\"#0d0887\"],[0.1111111111111111,\"#46039f\"],[0.2222222222222222,\"#7201a8\"],[0.3333333333333333,\"#9c179e\"],[0.4444444444444444,\"#bd3786\"],[0.5555555555555556,\"#d8576b\"],[0.6666666666666666,\"#ed7953\"],[0.7777777777777778,\"#fb9f3a\"],[0.8888888888888888,\"#fdca26\"],[1.0,\"#f0f921\"]],\"type\":\"heatmap\"}],\"heatmapgl\":[{\"colorbar\":{\"outlinewidth\":0,\"ticks\":\"\"},\"colorscale\":[[0.0,\"#0d0887\"],[0.1111111111111111,\"#46039f\"],[0.2222222222222222,\"#7201a8\"],[0.3333333333333333,\"#9c179e\"],[0.4444444444444444,\"#bd3786\"],[0.5555555555555556,\"#d8576b\"],[0.6666666666666666,\"#ed7953\"],[0.7777777777777778,\"#fb9f3a\"],[0.8888888888888888,\"#fdca26\"],[1.0,\"#f0f921\"]],\"type\":\"heatmapgl\"}],\"histogram\":[{\"marker\":{\"pattern\":{\"fillmode\":\"overlay\",\"size\":10,\"solidity\":0.2}},\"type\":\"histogram\"}],\"histogram2d\":[{\"colorbar\":{\"outlinewidth\":0,\"ticks\":\"\"},\"colorscale\":[[0.0,\"#0d0887\"],[0.1111111111111111,\"#46039f\"],[0.2222222222222222,\"#7201a8\"],[0.3333333333333333,\"#9c179e\"],[0.4444444444444444,\"#bd3786\"],[0.5555555555555556,\"#d8576b\"],[0.6666666666666666,\"#ed7953\"],[0.7777777777777778,\"#fb9f3a\"],[0.8888888888888888,\"#fdca26\"],[1.0,\"#f0f921\"]],\"type\":\"histogram2d\"}],\"histogram2dcontour\":[{\"colorbar\":{\"outlinewidth\":0,\"ticks\":\"\"},\"colorscale\":[[0.0,\"#0d0887\"],[0.1111111111111111,\"#46039f\"],[0.2222222222222222,\"#7201a8\"],[0.3333333333333333,\"#9c179e\"],[0.4444444444444444,\"#bd3786\"],[0.5555555555555556,\"#d8576b\"],[0.6666666666666666,\"#ed7953\"],[0.7777777777777778,\"#fb9f3a\"],[0.8888888888888888,\"#fdca26\"],[1.0,\"#f0f921\"]],\"type\":\"histogram2dcontour\"}],\"mesh3d\":[{\"colorbar\":{\"outlinewidth\":0,\"ticks\":\"\"},\"type\":\"mesh3d\"}],\"parcoords\":[{\"line\":{\"colorbar\":{\"outlinewidth\":0,\"ticks\":\"\"}},\"type\":\"parcoords\"}],\"pie\":[{\"automargin\":true,\"type\":\"pie\"}],\"scatter\":[{\"marker\":{\"colorbar\":{\"outlinewidth\":0,\"ticks\":\"\"}},\"type\":\"scatter\"}],\"scatter3d\":[{\"line\":{\"colorbar\":{\"outlinewidth\":0,\"ticks\":\"\"}},\"marker\":{\"colorbar\":{\"outlinewidth\":0,\"ticks\":\"\"}},\"type\":\"scatter3d\"}],\"scattercarpet\":[{\"marker\":{\"colorbar\":{\"outlinewidth\":0,\"ticks\":\"\"}},\"type\":\"scattercarpet\"}],\"scattergeo\":[{\"marker\":{\"colorbar\":{\"outlinewidth\":0,\"ticks\":\"\"}},\"type\":\"scattergeo\"}],\"scattergl\":[{\"marker\":{\"colorbar\":{\"outlinewidth\":0,\"ticks\":\"\"}},\"type\":\"scattergl\"}],\"scattermapbox\":[{\"marker\":{\"colorbar\":{\"outlinewidth\":0,\"ticks\":\"\"}},\"type\":\"scattermapbox\"}],\"scatterpolar\":[{\"marker\":{\"colorbar\":{\"outlinewidth\":0,\"ticks\":\"\"}},\"type\":\"scatterpolar\"}],\"scatterpolargl\":[{\"marker\":{\"colorbar\":{\"outlinewidth\":0,\"ticks\":\"\"}},\"type\":\"scatterpolargl\"}],\"scatterternary\":[{\"marker\":{\"colorbar\":{\"outlinewidth\":0,\"ticks\":\"\"}},\"type\":\"scatterternary\"}],\"surface\":[{\"colorbar\":{\"outlinewidth\":0,\"ticks\":\"\"},\"colorscale\":[[0.0,\"#0d0887\"],[0.1111111111111111,\"#46039f\"],[0.2222222222222222,\"#7201a8\"],[0.3333333333333333,\"#9c179e\"],[0.4444444444444444,\"#bd3786\"],[0.5555555555555556,\"#d8576b\"],[0.6666666666666666,\"#ed7953\"],[0.7777777777777778,\"#fb9f3a\"],[0.8888888888888888,\"#fdca26\"],[1.0,\"#f0f921\"]],\"type\":\"surface\"}],\"table\":[{\"cells\":{\"fill\":{\"color\":\"#EBF0F8\"},\"line\":{\"color\":\"white\"}},\"header\":{\"fill\":{\"color\":\"#C8D4E3\"},\"line\":{\"color\":\"white\"}},\"type\":\"table\"}]},\"layout\":{\"annotationdefaults\":{\"arrowcolor\":\"#2a3f5f\",\"arrowhead\":0,\"arrowwidth\":1},\"autotypenumbers\":\"strict\",\"coloraxis\":{\"colorbar\":{\"outlinewidth\":0,\"ticks\":\"\"}},\"colorscale\":{\"diverging\":[[0,\"#8e0152\"],[0.1,\"#c51b7d\"],[0.2,\"#de77ae\"],[0.3,\"#f1b6da\"],[0.4,\"#fde0ef\"],[0.5,\"#f7f7f7\"],[0.6,\"#e6f5d0\"],[0.7,\"#b8e186\"],[0.8,\"#7fbc41\"],[0.9,\"#4d9221\"],[1,\"#276419\"]],\"sequential\":[[0.0,\"#0d0887\"],[0.1111111111111111,\"#46039f\"],[0.2222222222222222,\"#7201a8\"],[0.3333333333333333,\"#9c179e\"],[0.4444444444444444,\"#bd3786\"],[0.5555555555555556,\"#d8576b\"],[0.6666666666666666,\"#ed7953\"],[0.7777777777777778,\"#fb9f3a\"],[0.8888888888888888,\"#fdca26\"],[1.0,\"#f0f921\"]],\"sequentialminus\":[[0.0,\"#0d0887\"],[0.1111111111111111,\"#46039f\"],[0.2222222222222222,\"#7201a8\"],[0.3333333333333333,\"#9c179e\"],[0.4444444444444444,\"#bd3786\"],[0.5555555555555556,\"#d8576b\"],[0.6666666666666666,\"#ed7953\"],[0.7777777777777778,\"#fb9f3a\"],[0.8888888888888888,\"#fdca26\"],[1.0,\"#f0f921\"]]},\"colorway\":[\"#636efa\",\"#EF553B\",\"#00cc96\",\"#ab63fa\",\"#FFA15A\",\"#19d3f3\",\"#FF6692\",\"#B6E880\",\"#FF97FF\",\"#FECB52\"],\"font\":{\"color\":\"#2a3f5f\"},\"geo\":{\"bgcolor\":\"white\",\"lakecolor\":\"white\",\"landcolor\":\"#E5ECF6\",\"showlakes\":true,\"showland\":true,\"subunitcolor\":\"white\"},\"hoverlabel\":{\"align\":\"left\"},\"hovermode\":\"closest\",\"mapbox\":{\"style\":\"light\"},\"paper_bgcolor\":\"white\",\"plot_bgcolor\":\"#E5ECF6\",\"polar\":{\"angularaxis\":{\"gridcolor\":\"white\",\"linecolor\":\"white\",\"ticks\":\"\"},\"bgcolor\":\"#E5ECF6\",\"radialaxis\":{\"gridcolor\":\"white\",\"linecolor\":\"white\",\"ticks\":\"\"}},\"scene\":{\"xaxis\":{\"backgroundcolor\":\"#E5ECF6\",\"gridcolor\":\"white\",\"gridwidth\":2,\"linecolor\":\"white\",\"showbackground\":true,\"ticks\":\"\",\"zerolinecolor\":\"white\"},\"yaxis\":{\"backgroundcolor\":\"#E5ECF6\",\"gridcolor\":\"white\",\"gridwidth\":2,\"linecolor\":\"white\",\"showbackground\":true,\"ticks\":\"\",\"zerolinecolor\":\"white\"},\"zaxis\":{\"backgroundcolor\":\"#E5ECF6\",\"gridcolor\":\"white\",\"gridwidth\":2,\"linecolor\":\"white\",\"showbackground\":true,\"ticks\":\"\",\"zerolinecolor\":\"white\"}},\"shapedefaults\":{\"line\":{\"color\":\"#2a3f5f\"}},\"ternary\":{\"aaxis\":{\"gridcolor\":\"white\",\"linecolor\":\"white\",\"ticks\":\"\"},\"baxis\":{\"gridcolor\":\"white\",\"linecolor\":\"white\",\"ticks\":\"\"},\"bgcolor\":\"#E5ECF6\",\"caxis\":{\"gridcolor\":\"white\",\"linecolor\":\"white\",\"ticks\":\"\"}},\"title\":{\"x\":0.05},\"xaxis\":{\"automargin\":true,\"gridcolor\":\"white\",\"linecolor\":\"white\",\"ticks\":\"\",\"title\":{\"standoff\":15},\"zerolinecolor\":\"white\",\"zerolinewidth\":2},\"yaxis\":{\"automargin\":true,\"gridcolor\":\"white\",\"linecolor\":\"white\",\"ticks\":\"\",\"title\":{\"standoff\":15},\"zerolinecolor\":\"white\",\"zerolinewidth\":2}}},\"legend\":{\"tracegroupgap\":0},\"title\":{\"text\":\"Personality type\"}},                        {\"responsive\": true}                    ).then(function(){\n",
              "                            \n",
              "var gd = document.getElementById('f7bf94d3-7124-442e-9f2a-0bf3b6288d80');\n",
              "var x = new MutationObserver(function (mutations, observer) {{\n",
              "        var display = window.getComputedStyle(gd).display;\n",
              "        if (!display || display === 'none') {{\n",
              "            console.log([gd, 'removed!']);\n",
              "            Plotly.purge(gd);\n",
              "            observer.disconnect();\n",
              "        }}\n",
              "}});\n",
              "\n",
              "// Listen for the removal of the full notebook cells\n",
              "var notebookContainer = gd.closest('#notebook-container');\n",
              "if (notebookContainer) {{\n",
              "    x.observe(notebookContainer, {childList: true});\n",
              "}}\n",
              "\n",
              "// Listen for the clearing of the current output cell\n",
              "var outputEl = gd.closest('.output');\n",
              "if (outputEl) {{\n",
              "    x.observe(outputEl, {childList: true});\n",
              "}}\n",
              "\n",
              "                        })                };                            </script>        </div>\n",
              "</body>\n",
              "</html>"
            ]
          },
          "metadata": {}
        }
      ],
      "source": [
        "px.pie(train_data,names='type',title='Personality type')"
      ]
    },
    {
      "cell_type": "markdown",
      "metadata": {
        "id": "EYV1lCWZS5im"
      },
      "source": [
        "Tokenizing Words"
      ]
    },
    {
      "cell_type": "code",
      "execution_count": 15,
      "metadata": {
        "id": "vaZV4x9haOoO",
        "colab": {
          "base_uri": "https://localhost:8080/"
        },
        "outputId": "37f2077f-75c6-4c39-f46c-c542b4f12b14"
      },
      "outputs": [
        {
          "output_type": "stream",
          "name": "stdout",
          "text": [
            "[nltk_data] Downloading package wordnet to /root/nltk_data...\n",
            "[nltk_data]   Unzipping corpora/wordnet.zip.\n"
          ]
        },
        {
          "output_type": "execute_result",
          "data": {
            "text/plain": [
              "True"
            ]
          },
          "metadata": {},
          "execution_count": 15
        }
      ],
      "source": [
        "import nltk\n",
        "nltk.download('wordnet')"
      ]
    },
    {
      "cell_type": "code",
      "execution_count": 16,
      "metadata": {
        "id": "Q_2v1vVIaBrJ"
      },
      "outputs": [],
      "source": [
        "class Lemmatizer(object):\n",
        "    def __init__(self):\n",
        "        self.lemmatizer = WordNetLemmatizer()\n",
        "    def __call__(self, sentence):\n",
        "        return [self.lemmatizer.lemmatize(word) for word in sentence.split() if len(word)>2]"
      ]
    },
    {
      "cell_type": "code",
      "execution_count": 17,
      "metadata": {
        "colab": {
          "base_uri": "https://localhost:8080/"
        },
        "id": "Pekgtt_SUevX",
        "outputId": "7e3c8b16-34e5-4034-9741-557e169e7e03"
      },
      "outputs": [
        {
          "output_type": "execute_result",
          "data": {
            "text/plain": [
              "TfidfVectorizer(max_features=5000, stop_words='english',\n",
              "                tokenizer=<__main__.Lemmatizer object at 0x7f9c8f020250>)"
            ]
          },
          "metadata": {},
          "execution_count": 17
        }
      ],
      "source": [
        "vectorizer=TfidfVectorizer(max_features=5000,stop_words='english',tokenizer=Lemmatizer())\n",
        "vectorizer.fit(train_data.posts)"
      ]
    },
    {
      "cell_type": "code",
      "execution_count": 18,
      "metadata": {
        "id": "pQbQMe6ZhXB6"
      },
      "outputs": [],
      "source": [
        "train_post=vectorizer.transform(train_data.posts).toarray()\n",
        "test_post=vectorizer.transform(test_data.posts).toarray()"
      ]
    },
    {
      "cell_type": "code",
      "execution_count": 19,
      "metadata": {
        "colab": {
          "base_uri": "https://localhost:8080/"
        },
        "id": "bFW_wisYi_8W",
        "outputId": "1e25d261-1739-4642-e168-257da4fec0bd"
      },
      "outputs": [
        {
          "output_type": "stream",
          "name": "stdout",
          "text": [
            "(6506, 5000)\n",
            "(2169, 5000)\n"
          ]
        }
      ],
      "source": [
        "print(train_post.shape)\n",
        "print(test_post.shape)"
      ]
    },
    {
      "cell_type": "code",
      "execution_count": 20,
      "metadata": {
        "id": "g7tCOFz_nNAE"
      },
      "outputs": [],
      "source": [
        "target_encoder=LabelEncoder()\n",
        "train_target=target_encoder.fit_transform(train_data.type)\n",
        "test_target=target_encoder.fit_transform(test_data.type)"
      ]
    },
    {
      "cell_type": "markdown",
      "source": [
        "# Model Selection"
      ],
      "metadata": {
        "id": "vQxBLm_UYpLe"
      }
    },
    {
      "cell_type": "code",
      "execution_count": 21,
      "metadata": {
        "id": "gaJTiBSBKG3y"
      },
      "outputs": [],
      "source": [
        "models_accuracy={}"
      ]
    },
    {
      "cell_type": "markdown",
      "source": [
        "##Logistic Regression"
      ],
      "metadata": {
        "id": "7RI7dLsqYwY6"
      }
    },
    {
      "cell_type": "code",
      "execution_count": 22,
      "metadata": {
        "colab": {
          "base_uri": "https://localhost:8080/"
        },
        "id": "WPkHPGGCKN1i",
        "outputId": "67f7f789-da06-45b0-e5ba-637c323bf45a"
      },
      "outputs": [
        {
          "output_type": "execute_result",
          "data": {
            "text/plain": [
              "LogisticRegression(C=0.5, max_iter=3000, n_jobs=-1)"
            ]
          },
          "metadata": {},
          "execution_count": 22
        }
      ],
      "source": [
        "model_Log=LogisticRegression(max_iter=3000,C=0.5,n_jobs=-1)\n",
        "model_Log.fit(train_post,train_target)"
      ]
    },
    {
      "cell_type": "code",
      "execution_count": 23,
      "metadata": {
        "id": "0EnwlV45Owvg",
        "colab": {
          "base_uri": "https://localhost:8080/"
        },
        "outputId": "3e8b5940-9fa7-41fa-d362-8687c445f700"
      },
      "outputs": [
        {
          "output_type": "stream",
          "name": "stdout",
          "text": [
            "train classification report \n",
            "                precision    recall  f1-score   support\n",
            "\n",
            "        ENFJ       0.81      0.18      0.30       142\n",
            "        ENFP       0.83      0.66      0.73       506\n",
            "        ENTJ       0.96      0.25      0.39       173\n",
            "        ENTP       0.80      0.64      0.71       514\n",
            "        ESFJ       0.00      0.00      0.00        32\n",
            "        ESFP       0.00      0.00      0.00        36\n",
            "        ESTJ       0.00      0.00      0.00        29\n",
            "        ESTP       1.00      0.06      0.11        67\n",
            "        INFJ       0.73      0.82      0.78      1102\n",
            "        INFP       0.65      0.93      0.77      1374\n",
            "        INTJ       0.72      0.81      0.76       818\n",
            "        INTP       0.72      0.89      0.79       978\n",
            "        ISFJ       0.89      0.26      0.40       125\n",
            "        ISFP       0.88      0.28      0.43       203\n",
            "        ISTJ       0.82      0.21      0.33       154\n",
            "        ISTP       0.88      0.53      0.66       253\n",
            "\n",
            "    accuracy                           0.72      6506\n",
            "   macro avg       0.67      0.41      0.45      6506\n",
            "weighted avg       0.74      0.72      0.69      6506\n",
            "\n",
            "test classification report \n",
            "               precision    recall  f1-score   support\n",
            "\n",
            "        ENFJ       1.00      0.06      0.12        48\n",
            "        ENFP       0.68      0.52      0.59       169\n",
            "        ENTJ       0.86      0.21      0.33        58\n",
            "        ENTP       0.72      0.54      0.62       171\n",
            "        ESFJ       0.00      0.00      0.00        10\n",
            "        ESFP       0.00      0.00      0.00        12\n",
            "        ESTJ       0.00      0.00      0.00        10\n",
            "        ESTP       0.00      0.00      0.00        22\n",
            "        INFJ       0.65      0.69      0.67       368\n",
            "        INFP       0.56      0.89      0.69       458\n",
            "        INTJ       0.66      0.67      0.66       273\n",
            "        INTP       0.58      0.77      0.67       326\n",
            "        ISFJ       0.83      0.12      0.21        41\n",
            "        ISFP       0.60      0.09      0.15        68\n",
            "        ISTJ       0.78      0.14      0.23        51\n",
            "        ISTP       0.71      0.32      0.44        84\n",
            "\n",
            "    accuracy                           0.62      2169\n",
            "   macro avg       0.54      0.31      0.34      2169\n",
            "weighted avg       0.63      0.62      0.58      2169\n",
            "\n"
          ]
        }
      ],
      "source": [
        "print('train classification report \\n ',classification_report(train_target,model_Log.predict(train_post),target_names=target_encoder.inverse_transform([i for i in range(16)])))\n",
        "print('test classification report \\n',classification_report(test_target,model_Log.predict(test_post),target_names=target_encoder.inverse_transform([i for i in range(16)])))"
      ]
    },
    {
      "cell_type": "code",
      "execution_count": 24,
      "metadata": {
        "id": "WWpwtcfJRd1O"
      },
      "outputs": [],
      "source": [
        "models_accuracy[\"Logistic Regression\"]=accuracy_score(test_target,model_Log.predict(test_post))"
      ]
    },
    {
      "cell_type": "markdown",
      "source": [
        "##Support Vector Classifier"
      ],
      "metadata": {
        "id": "cY6HyU1NZLXi"
      }
    },
    {
      "cell_type": "code",
      "execution_count": 25,
      "metadata": {
        "colab": {
          "base_uri": "https://localhost:8080/"
        },
        "id": "GEkj7dx8TwHw",
        "outputId": "682cf891-93c4-4b0a-c613-72ca671b78f6"
      },
      "outputs": [
        {
          "output_type": "execute_result",
          "data": {
            "text/plain": [
              "SVC()"
            ]
          },
          "metadata": {},
          "execution_count": 25
        }
      ],
      "source": [
        "model_svc=SVC()\n",
        "model_svc.fit(train_post,train_target)"
      ]
    },
    {
      "cell_type": "code",
      "execution_count": 26,
      "metadata": {
        "id": "v8gdx1R7VRSU",
        "colab": {
          "base_uri": "https://localhost:8080/"
        },
        "outputId": "98d2be6c-ca71-454f-ae74-e5a8263b05e2"
      },
      "outputs": [
        {
          "output_type": "stream",
          "name": "stdout",
          "text": [
            "train classification report \n",
            "                precision    recall  f1-score   support\n",
            "\n",
            "        ENFJ       0.95      0.89      0.92       142\n",
            "        ENFP       0.97      0.95      0.96       506\n",
            "        ENTJ       0.98      0.90      0.94       173\n",
            "        ENTP       0.94      0.96      0.95       514\n",
            "        ESFJ       1.00      0.62      0.77        32\n",
            "        ESFP       1.00      0.33      0.50        36\n",
            "        ESTJ       1.00      0.66      0.79        29\n",
            "        ESTP       1.00      0.91      0.95        67\n",
            "        INFJ       0.95      0.97      0.96      1102\n",
            "        INFP       0.94      0.98      0.96      1374\n",
            "        INTJ       0.97      0.96      0.96       818\n",
            "        INTP       0.94      0.98      0.96       978\n",
            "        ISFJ       1.00      0.92      0.96       125\n",
            "        ISFP       0.96      0.90      0.93       203\n",
            "        ISTJ       0.95      0.90      0.92       154\n",
            "        ISTP       0.98      0.94      0.96       253\n",
            "\n",
            "    accuracy                           0.95      6506\n",
            "   macro avg       0.97      0.86      0.90      6506\n",
            "weighted avg       0.95      0.95      0.95      6506\n",
            "\n",
            "test classification report \n",
            "                precision    recall  f1-score   support\n",
            "\n",
            "        ENFJ       0.54      0.15      0.23        48\n",
            "        ENFP       0.70      0.56      0.62       169\n",
            "        ENTJ       0.69      0.31      0.43        58\n",
            "        ENTP       0.68      0.60      0.63       171\n",
            "        ESFJ       0.67      0.20      0.31        10\n",
            "        ESFP       0.00      0.00      0.00        12\n",
            "        ESTJ       0.00      0.00      0.00        10\n",
            "        ESTP       0.57      0.18      0.28        22\n",
            "        INFJ       0.68      0.67      0.67       368\n",
            "        INFP       0.57      0.85      0.68       458\n",
            "        INTJ       0.66      0.66      0.66       273\n",
            "        INTP       0.61      0.76      0.67       326\n",
            "        ISFJ       0.85      0.27      0.41        41\n",
            "        ISFP       0.77      0.25      0.38        68\n",
            "        ISTJ       0.79      0.37      0.51        51\n",
            "        ISTP       0.70      0.45      0.55        84\n",
            "\n",
            "    accuracy                           0.63      2169\n",
            "   macro avg       0.59      0.39      0.44      2169\n",
            "weighted avg       0.64      0.63      0.61      2169\n",
            "\n"
          ]
        }
      ],
      "source": [
        "print('train classification report \\n ',classification_report(train_target,model_svc.predict(train_post),target_names=target_encoder.inverse_transform([i for i in range(16)])))\n",
        "print('test classification report \\n ',classification_report(test_target,model_svc.predict(test_post),target_names=target_encoder.inverse_transform([i for i in range(16)])))"
      ]
    },
    {
      "cell_type": "code",
      "execution_count": 27,
      "metadata": {
        "id": "PTlbMqPtYADL"
      },
      "outputs": [],
      "source": [
        "models_accuracy[\"SV Classifier\"]=accuracy_score(test_target,model_svc.predict(test_post))"
      ]
    },
    {
      "cell_type": "markdown",
      "source": [
        "##Multinomial Naive Bayes"
      ],
      "metadata": {
        "id": "CNNh9jJVZSKY"
      }
    },
    {
      "cell_type": "code",
      "execution_count": 28,
      "metadata": {
        "id": "3teJDwoLYuOJ",
        "colab": {
          "base_uri": "https://localhost:8080/"
        },
        "outputId": "7eb60cc4-91da-4798-dfe7-cb8e6e0b59c9"
      },
      "outputs": [
        {
          "output_type": "execute_result",
          "data": {
            "text/plain": [
              "MultinomialNB()"
            ]
          },
          "metadata": {},
          "execution_count": 28
        }
      ],
      "source": [
        "model_mnb=MultinomialNB()\n",
        "model_mnb.fit(train_post,train_target)"
      ]
    },
    {
      "cell_type": "code",
      "source": [
        "print('train classification report \\n ',classification_report(train_target,model_mnb.predict(train_post),target_names=target_encoder.inverse_transform([i for i in range(16)])))\n",
        "print('test classification report \\n ',classification_report(test_target,model_mnb.predict(test_post),target_names=target_encoder.inverse_transform([i for i in range(16)])))"
      ],
      "metadata": {
        "colab": {
          "base_uri": "https://localhost:8080/"
        },
        "id": "JEArt2MwbbmT",
        "outputId": "257208ff-1a62-4d7c-8209-a3ed94634c0d"
      },
      "execution_count": 29,
      "outputs": [
        {
          "output_type": "stream",
          "name": "stdout",
          "text": [
            "train classification report \n",
            "                precision    recall  f1-score   support\n",
            "\n",
            "        ENFJ       0.00      0.00      0.00       142\n",
            "        ENFP       0.87      0.03      0.05       506\n",
            "        ENTJ       0.00      0.00      0.00       173\n",
            "        ENTP       0.80      0.06      0.12       514\n",
            "        ESFJ       0.00      0.00      0.00        32\n",
            "        ESFP       0.00      0.00      0.00        36\n",
            "        ESTJ       0.00      0.00      0.00        29\n",
            "        ESTP       0.00      0.00      0.00        67\n",
            "        INFJ       0.52      0.63      0.57      1102\n",
            "        INFP       0.35      0.94      0.52      1374\n",
            "        INTJ       0.83      0.41      0.55       818\n",
            "        INTP       0.60      0.65      0.63       978\n",
            "        ISFJ       0.00      0.00      0.00       125\n",
            "        ISFP       0.00      0.00      0.00       203\n",
            "        ISTJ       0.00      0.00      0.00       154\n",
            "        ISTP       0.00      0.00      0.00       253\n",
            "\n",
            "    accuracy                           0.46      6506\n",
            "   macro avg       0.25      0.17      0.15      6506\n",
            "weighted avg       0.49      0.46      0.38      6506\n",
            "\n",
            "test classification report \n",
            "                precision    recall  f1-score   support\n",
            "\n",
            "        ENFJ       0.00      0.00      0.00        48\n",
            "        ENFP       1.00      0.01      0.02       169\n",
            "        ENTJ       0.00      0.00      0.00        58\n",
            "        ENTP       0.50      0.01      0.01       171\n",
            "        ESFJ       0.00      0.00      0.00        10\n",
            "        ESFP       0.00      0.00      0.00        12\n",
            "        ESTJ       0.00      0.00      0.00        10\n",
            "        ESTP       0.00      0.00      0.00        22\n",
            "        INFJ       0.39      0.44      0.42       368\n",
            "        INFP       0.32      0.91      0.47       458\n",
            "        INTJ       0.62      0.21      0.32       273\n",
            "        INTP       0.45      0.47      0.46       326\n",
            "        ISFJ       0.00      0.00      0.00        41\n",
            "        ISFP       0.00      0.00      0.00        68\n",
            "        ISTJ       0.00      0.00      0.00        51\n",
            "        ISTP       0.00      0.00      0.00        84\n",
            "\n",
            "    accuracy                           0.37      2169\n",
            "   macro avg       0.21      0.13      0.11      2169\n",
            "weighted avg       0.40      0.37      0.28      2169\n",
            "\n"
          ]
        }
      ]
    },
    {
      "cell_type": "code",
      "source": [
        "models_accuracy['Multinomial Naive Bayes']=accuracy_score(test_target,model_mnb.predict(test_post))"
      ],
      "metadata": {
        "id": "rUjLTUWxbu44"
      },
      "execution_count": 30,
      "outputs": []
    },
    {
      "cell_type": "markdown",
      "source": [
        "##KNN Neighbours"
      ],
      "metadata": {
        "id": "DKa2UuS_ZZm3"
      }
    },
    {
      "cell_type": "code",
      "source": [
        "from sklearn.neighbors import KNeighborsClassifier\n",
        "model_knn = KNeighborsClassifier(n_neighbors=16)\n",
        "model_knn.fit(train_post,train_target)\n",
        "print('train classification report \\n ',classification_report(train_target,model_knn.predict(train_post),target_names=target_encoder.inverse_transform([i for i in range(16)])))\n",
        "print('test classification report \\n ',classification_report(test_target,model_knn.predict(test_post),target_names=target_encoder.inverse_transform([i for i in range(16)])))"
      ],
      "metadata": {
        "colab": {
          "base_uri": "https://localhost:8080/"
        },
        "id": "KbmPaaLPb4L2",
        "outputId": "560d662a-4817-47fd-88af-f178d4635efb"
      },
      "execution_count": 31,
      "outputs": [
        {
          "output_type": "stream",
          "name": "stdout",
          "text": [
            "train classification report \n",
            "                precision    recall  f1-score   support\n",
            "\n",
            "        ENFJ       0.63      0.41      0.50       142\n",
            "        ENFP       0.57      0.60      0.58       506\n",
            "        ENTJ       0.86      0.25      0.39       173\n",
            "        ENTP       0.76      0.45      0.57       514\n",
            "        ESFJ       0.41      0.41      0.41        32\n",
            "        ESFP       1.00      0.03      0.05        36\n",
            "        ESTJ       0.64      0.31      0.42        29\n",
            "        ESTP       0.77      0.34      0.47        67\n",
            "        INFJ       0.50      0.70      0.58      1102\n",
            "        INFP       0.42      0.87      0.57      1374\n",
            "        INTJ       0.75      0.32      0.45       818\n",
            "        INTP       0.80      0.35      0.49       978\n",
            "        ISFJ       0.80      0.50      0.62       125\n",
            "        ISFP       0.79      0.28      0.41       203\n",
            "        ISTJ       0.71      0.29      0.41       154\n",
            "        ISTP       0.89      0.23      0.36       253\n",
            "\n",
            "    accuracy                           0.53      6506\n",
            "   macro avg       0.71      0.40      0.45      6506\n",
            "weighted avg       0.64      0.53      0.52      6506\n",
            "\n",
            "test classification report \n",
            "                precision    recall  f1-score   support\n",
            "\n",
            "        ENFJ       0.32      0.12      0.18        48\n",
            "        ENFP       0.47      0.52      0.49       169\n",
            "        ENTJ       0.73      0.28      0.40        58\n",
            "        ENTP       0.63      0.36      0.46       171\n",
            "        ESFJ       0.33      0.40      0.36        10\n",
            "        ESFP       0.00      0.00      0.00        12\n",
            "        ESTJ       1.00      0.10      0.18        10\n",
            "        ESTP       0.73      0.36      0.48        22\n",
            "        INFJ       0.41      0.59      0.48       368\n",
            "        INFP       0.37      0.81      0.51       458\n",
            "        INTJ       0.67      0.25      0.36       273\n",
            "        INTP       0.77      0.30      0.43       326\n",
            "        ISFJ       0.78      0.34      0.47        41\n",
            "        ISFP       0.68      0.19      0.30        68\n",
            "        ISTJ       0.75      0.24      0.36        51\n",
            "        ISTP       0.83      0.12      0.21        84\n",
            "\n",
            "    accuracy                           0.45      2169\n",
            "   macro avg       0.59      0.31      0.36      2169\n",
            "weighted avg       0.56      0.45      0.43      2169\n",
            "\n"
          ]
        }
      ]
    },
    {
      "cell_type": "code",
      "source": [
        "models_accuracy['KNN Neighbours']=accuracy_score(test_target,model_knn.predict(test_post))"
      ],
      "metadata": {
        "id": "3ZSi8FmthTy_"
      },
      "execution_count": 32,
      "outputs": []
    },
    {
      "cell_type": "markdown",
      "source": [
        "##Random Forest Classifier"
      ],
      "metadata": {
        "id": "runpf9j7ZjEN"
      }
    },
    {
      "cell_type": "code",
      "source": [
        "model_rfc=RandomForestClassifier(max_depth=10)\n",
        "model_rfc.fit(train_post,train_target)"
      ],
      "metadata": {
        "colab": {
          "base_uri": "https://localhost:8080/"
        },
        "id": "adkwITBWjLQ4",
        "outputId": "f76b57e8-90af-4db3-951e-b9d451bee0e1"
      },
      "execution_count": 33,
      "outputs": [
        {
          "output_type": "execute_result",
          "data": {
            "text/plain": [
              "RandomForestClassifier(max_depth=10)"
            ]
          },
          "metadata": {},
          "execution_count": 33
        }
      ]
    },
    {
      "cell_type": "code",
      "source": [
        "print('train classification report \\n ',classification_report(train_target,model_rfc.predict(train_post),target_names=target_encoder.inverse_transform([i for i in range(16)])))\n",
        "print('test classification report \\n ',classification_report(test_target,model_rfc.predict(test_post),target_names=target_encoder.inverse_transform([i for i in range(16)])))"
      ],
      "metadata": {
        "colab": {
          "base_uri": "https://localhost:8080/"
        },
        "id": "sE1NTOlGjZjI",
        "outputId": "0ee41162-e668-45e2-e0de-6131cefb826b"
      },
      "execution_count": 34,
      "outputs": [
        {
          "output_type": "stream",
          "name": "stdout",
          "text": [
            "train classification report \n",
            "                precision    recall  f1-score   support\n",
            "\n",
            "        ENFJ       1.00      0.06      0.12       142\n",
            "        ENFP       0.99      0.43      0.60       506\n",
            "        ENTJ       1.00      0.03      0.06       173\n",
            "        ENTP       0.98      0.62      0.76       514\n",
            "        ESFJ       0.00      0.00      0.00        32\n",
            "        ESFP       0.00      0.00      0.00        36\n",
            "        ESTJ       1.00      0.03      0.07        29\n",
            "        ESTP       1.00      0.03      0.06        67\n",
            "        INFJ       0.80      0.84      0.82      1102\n",
            "        INFP       0.48      0.99      0.64      1374\n",
            "        INTJ       0.91      0.75      0.82       818\n",
            "        INTP       0.75      0.90      0.82       978\n",
            "        ISFJ       1.00      0.10      0.19       125\n",
            "        ISFP       1.00      0.03      0.06       203\n",
            "        ISTJ       1.00      0.01      0.01       154\n",
            "        ISTP       1.00      0.21      0.34       253\n",
            "\n",
            "    accuracy                           0.68      6506\n",
            "   macro avg       0.81      0.31      0.33      6506\n",
            "weighted avg       0.79      0.68      0.63      6506\n",
            "\n",
            "test classification report \n",
            "                precision    recall  f1-score   support\n",
            "\n",
            "        ENFJ       0.00      0.00      0.00        48\n",
            "        ENFP       0.77      0.14      0.24       169\n",
            "        ENTJ       0.00      0.00      0.00        58\n",
            "        ENTP       0.76      0.23      0.35       171\n",
            "        ESFJ       0.00      0.00      0.00        10\n",
            "        ESFP       0.00      0.00      0.00        12\n",
            "        ESTJ       0.00      0.00      0.00        10\n",
            "        ESTP       0.00      0.00      0.00        22\n",
            "        INFJ       0.57      0.60      0.58       368\n",
            "        INFP       0.37      0.95      0.53       458\n",
            "        INTJ       0.69      0.38      0.49       273\n",
            "        INTP       0.56      0.63      0.59       326\n",
            "        ISFJ       1.00      0.02      0.05        41\n",
            "        ISFP       0.00      0.00      0.00        68\n",
            "        ISTJ       0.00      0.00      0.00        51\n",
            "        ISTP       0.00      0.00      0.00        84\n",
            "\n",
            "    accuracy                           0.47      2169\n",
            "   macro avg       0.30      0.18      0.18      2169\n",
            "weighted avg       0.48      0.47      0.41      2169\n",
            "\n"
          ]
        }
      ]
    },
    {
      "cell_type": "code",
      "source": [
        "models_accuracy['Random Forest Classifier']=accuracy_score(test_target,model_rfc.predict(test_post))"
      ],
      "metadata": {
        "id": "jNdts_3Sjjuo"
      },
      "execution_count": 35,
      "outputs": []
    },
    {
      "cell_type": "markdown",
      "source": [
        "##XGBoost Classifier"
      ],
      "metadata": {
        "id": "eLGXe6B7ZojN"
      }
    },
    {
      "cell_type": "code",
      "source": [
        "model_xgb=XGBClassifier(gpu_id=0,tree_method='gpu_hist',max_depth=5,n_estimators=50,learning_rate=0.1)\n",
        "model_xgb.fit(train_post,train_target)"
      ],
      "metadata": {
        "colab": {
          "base_uri": "https://localhost:8080/"
        },
        "id": "AcziLSrElv8t",
        "outputId": "2feabe85-eb9f-4418-ba02-a579783e7909"
      },
      "execution_count": 36,
      "outputs": [
        {
          "output_type": "execute_result",
          "data": {
            "text/plain": [
              "XGBClassifier(gpu_id=0, max_depth=5, n_estimators=50,\n",
              "              objective='multi:softprob', tree_method='gpu_hist')"
            ]
          },
          "metadata": {},
          "execution_count": 36
        }
      ]
    },
    {
      "cell_type": "code",
      "source": [
        "print('train classification report \\n ',classification_report(train_target,model_xgb.predict(train_post),target_names=target_encoder.inverse_transform([i for i in range(16)])))\n",
        "print('test classification report \\n ',classification_report(test_target,model_xgb.predict(test_post),target_names=target_encoder.inverse_transform([i for i in range(16)])))"
      ],
      "metadata": {
        "colab": {
          "base_uri": "https://localhost:8080/"
        },
        "id": "LXKv1MV4l3Dp",
        "outputId": "c251c792-4c0e-4d3d-f530-084457afeafd"
      },
      "execution_count": 37,
      "outputs": [
        {
          "output_type": "stream",
          "name": "stdout",
          "text": [
            "train classification report \n",
            "                precision    recall  f1-score   support\n",
            "\n",
            "        ENFJ       0.99      0.96      0.98       142\n",
            "        ENFP       0.96      0.92      0.94       506\n",
            "        ENTJ       0.98      0.93      0.96       173\n",
            "        ENTP       0.94      0.92      0.93       514\n",
            "        ESFJ       1.00      0.94      0.97        32\n",
            "        ESFP       1.00      0.94      0.97        36\n",
            "        ESTJ       1.00      0.97      0.98        29\n",
            "        ESTP       1.00      1.00      1.00        67\n",
            "        INFJ       0.92      0.91      0.92      1102\n",
            "        INFP       0.90      0.95      0.93      1374\n",
            "        INTJ       0.93      0.93      0.93       818\n",
            "        INTP       0.93      0.93      0.93       978\n",
            "        ISFJ       1.00      0.94      0.97       125\n",
            "        ISFP       0.99      0.94      0.96       203\n",
            "        ISTJ       0.99      0.95      0.97       154\n",
            "        ISTP       0.98      0.96      0.97       253\n",
            "\n",
            "    accuracy                           0.93      6506\n",
            "   macro avg       0.97      0.94      0.96      6506\n",
            "weighted avg       0.94      0.93      0.93      6506\n",
            "\n",
            "test classification report \n",
            "                precision    recall  f1-score   support\n",
            "\n",
            "        ENFJ       0.64      0.19      0.29        48\n",
            "        ENFP       0.61      0.62      0.62       169\n",
            "        ENTJ       0.58      0.36      0.45        58\n",
            "        ENTP       0.58      0.61      0.59       171\n",
            "        ESFJ       0.67      0.20      0.31        10\n",
            "        ESFP       1.00      0.08      0.15        12\n",
            "        ESTJ       0.00      0.00      0.00        10\n",
            "        ESTP       0.31      0.18      0.23        22\n",
            "        INFJ       0.65      0.73      0.69       368\n",
            "        INFP       0.66      0.79      0.72       458\n",
            "        INTJ       0.68      0.65      0.66       273\n",
            "        INTP       0.64      0.71      0.68       326\n",
            "        ISFJ       0.65      0.41      0.51        41\n",
            "        ISFP       0.60      0.38      0.47        68\n",
            "        ISTJ       0.82      0.53      0.64        51\n",
            "        ISTP       0.75      0.56      0.64        84\n",
            "\n",
            "    accuracy                           0.65      2169\n",
            "   macro avg       0.62      0.44      0.48      2169\n",
            "weighted avg       0.65      0.65      0.64      2169\n",
            "\n"
          ]
        }
      ]
    },
    {
      "cell_type": "code",
      "source": [
        "models_accuracy['XGBoost Classifier']=accuracy_score(test_target,model_xgb.predict(test_post))"
      ],
      "metadata": {
        "id": "M9A0tFZur_WR"
      },
      "execution_count": 38,
      "outputs": []
    },
    {
      "cell_type": "code",
      "source": [
        "models_accuracy"
      ],
      "metadata": {
        "colab": {
          "base_uri": "https://localhost:8080/"
        },
        "id": "ff3_w0gesEfE",
        "outputId": "b3511a73-0e2c-4465-e177-b6424b178e8f"
      },
      "execution_count": 39,
      "outputs": [
        {
          "output_type": "execute_result",
          "data": {
            "text/plain": [
              "{'KNN Neighbours': 0.4541263254956201,\n",
              " 'Logistic Regression': 0.6173351775011526,\n",
              " 'Multinomial Naive Bayes': 0.36698939603503916,\n",
              " 'Random Forest Classifier': 0.4734900875979714,\n",
              " 'SV Classifier': 0.6330106039649608,\n",
              " 'XGBoost Classifier': 0.6468418626094975}"
            ]
          },
          "metadata": {},
          "execution_count": 39
        }
      ]
    },
    {
      "cell_type": "code",
      "source": [
        "accuracy=pd.DataFrame(models_accuracy.items(),columns=['Models','Test accuracy'])"
      ],
      "metadata": {
        "id": "pyp99ZvCsKi7"
      },
      "execution_count": 40,
      "outputs": []
    },
    {
      "cell_type": "code",
      "source": [
        "accuracy.sort_values(by='Test accuracy',ascending=False,ignore_index=True).style.background_gradient(cmap='Blues')"
      ],
      "metadata": {
        "colab": {
          "base_uri": "https://localhost:8080/",
          "height": 237
        },
        "id": "_Iu1LCEBvRT2",
        "outputId": "65ad13f0-6652-442f-8ae9-93cb869a0b56"
      },
      "execution_count": 41,
      "outputs": [
        {
          "output_type": "execute_result",
          "data": {
            "text/plain": [
              "<pandas.io.formats.style.Styler at 0x7f9c8a12cdd0>"
            ],
            "text/html": [
              "<style type=\"text/css\">\n",
              "#T_d9c10_row0_col1 {\n",
              "  background-color: #08306b;\n",
              "  color: #f1f1f1;\n",
              "}\n",
              "#T_d9c10_row1_col1 {\n",
              "  background-color: #083c7d;\n",
              "  color: #f1f1f1;\n",
              "}\n",
              "#T_d9c10_row2_col1 {\n",
              "  background-color: #084b93;\n",
              "  color: #f1f1f1;\n",
              "}\n",
              "#T_d9c10_row3_col1 {\n",
              "  background-color: #9cc9e1;\n",
              "  color: #000000;\n",
              "}\n",
              "#T_d9c10_row4_col1 {\n",
              "  background-color: #b3d3e8;\n",
              "  color: #000000;\n",
              "}\n",
              "#T_d9c10_row5_col1 {\n",
              "  background-color: #f7fbff;\n",
              "  color: #000000;\n",
              "}\n",
              "</style>\n",
              "<table id=\"T_d9c10_\" class=\"dataframe\">\n",
              "  <thead>\n",
              "    <tr>\n",
              "      <th class=\"blank level0\" >&nbsp;</th>\n",
              "      <th class=\"col_heading level0 col0\" >Models</th>\n",
              "      <th class=\"col_heading level0 col1\" >Test accuracy</th>\n",
              "    </tr>\n",
              "  </thead>\n",
              "  <tbody>\n",
              "    <tr>\n",
              "      <th id=\"T_d9c10_level0_row0\" class=\"row_heading level0 row0\" >0</th>\n",
              "      <td id=\"T_d9c10_row0_col0\" class=\"data row0 col0\" >XGBoost Classifier</td>\n",
              "      <td id=\"T_d9c10_row0_col1\" class=\"data row0 col1\" >0.646842</td>\n",
              "    </tr>\n",
              "    <tr>\n",
              "      <th id=\"T_d9c10_level0_row1\" class=\"row_heading level0 row1\" >1</th>\n",
              "      <td id=\"T_d9c10_row1_col0\" class=\"data row1 col0\" >SV Classifier</td>\n",
              "      <td id=\"T_d9c10_row1_col1\" class=\"data row1 col1\" >0.633011</td>\n",
              "    </tr>\n",
              "    <tr>\n",
              "      <th id=\"T_d9c10_level0_row2\" class=\"row_heading level0 row2\" >2</th>\n",
              "      <td id=\"T_d9c10_row2_col0\" class=\"data row2 col0\" >Logistic Regression</td>\n",
              "      <td id=\"T_d9c10_row2_col1\" class=\"data row2 col1\" >0.617335</td>\n",
              "    </tr>\n",
              "    <tr>\n",
              "      <th id=\"T_d9c10_level0_row3\" class=\"row_heading level0 row3\" >3</th>\n",
              "      <td id=\"T_d9c10_row3_col0\" class=\"data row3 col0\" >Random Forest Classifier</td>\n",
              "      <td id=\"T_d9c10_row3_col1\" class=\"data row3 col1\" >0.473490</td>\n",
              "    </tr>\n",
              "    <tr>\n",
              "      <th id=\"T_d9c10_level0_row4\" class=\"row_heading level0 row4\" >4</th>\n",
              "      <td id=\"T_d9c10_row4_col0\" class=\"data row4 col0\" >KNN Neighbours</td>\n",
              "      <td id=\"T_d9c10_row4_col1\" class=\"data row4 col1\" >0.454126</td>\n",
              "    </tr>\n",
              "    <tr>\n",
              "      <th id=\"T_d9c10_level0_row5\" class=\"row_heading level0 row5\" >5</th>\n",
              "      <td id=\"T_d9c10_row5_col0\" class=\"data row5 col0\" >Multinomial Naive Bayes</td>\n",
              "      <td id=\"T_d9c10_row5_col1\" class=\"data row5 col1\" >0.366989</td>\n",
              "    </tr>\n",
              "  </tbody>\n",
              "</table>\n"
            ]
          },
          "metadata": {},
          "execution_count": 41
        }
      ]
    },
    {
      "cell_type": "code",
      "source": [
        "# XGBoost model seems to perform well in predicting values compared to the other models."
      ],
      "metadata": {
        "id": "XQyJycmkvR7d"
      },
      "execution_count": 42,
      "outputs": []
    },
    {
      "cell_type": "code",
      "source": [
        ""
      ],
      "metadata": {
        "id": "4MOj4Z2fvzpp"
      },
      "execution_count": 42,
      "outputs": []
    }
  ],
  "metadata": {
    "accelerator": "GPU",
    "colab": {
      "collapsed_sections": [],
      "name": "Personality Type MBIT.ipynb",
      "provenance": []
    },
    "kernelspec": {
      "display_name": "Python 3",
      "name": "python3"
    },
    "language_info": {
      "name": "python"
    }
  },
  "nbformat": 4,
  "nbformat_minor": 0
}